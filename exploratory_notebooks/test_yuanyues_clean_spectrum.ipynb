{
 "cells": [
  {
   "cell_type": "code",
   "execution_count": 15,
   "id": "f8a82360",
   "metadata": {},
   "outputs": [],
   "source": [
    "import spectral_entropy\n",
    "import sqlalchemy\n",
    "import numpy as np\n",
    "import matplotlib.pyplot as plt"
   ]
  },
  {
   "cell_type": "code",
   "execution_count": 4,
   "id": "9b251cfa",
   "metadata": {},
   "outputs": [],
   "source": [
    "database_address='../../data/database/bucketbase.db'"
   ]
  },
  {
   "cell_type": "code",
   "execution_count": 5,
   "id": "48f6fa68",
   "metadata": {},
   "outputs": [],
   "source": [
    "def execute_query(database_addres,query_string):\n",
    "    '''\n",
    "    \n",
    "    '''\n",
    "    engine=sqlalchemy.create_engine(f\"sqlite:///{database_address}\")\n",
    "    connection=engine.connect()\n",
    "\n",
    "    temp_cursor=connection.execute(\n",
    "        query_string\n",
    "    )\n",
    "\n",
    "    temp_result=temp_cursor.fetchall()\n",
    "    #print(temp_result)\n",
    "    print(len(temp_result))\n",
    "    \n",
    "    connection.close()\n",
    "    engine.dispose()\n",
    "    print(len(temp_result))\n",
    "\n",
    "    if len(temp_result)==0:\n",
    "        return -1\n",
    "    elif len(temp_result)>1:\n",
    "        print('here')\n",
    "        return temp_result"
   ]
  },
  {
   "cell_type": "code",
   "execution_count": 6,
   "id": "ec6ee0ab",
   "metadata": {},
   "outputs": [],
   "source": [
    "def parse_one_ms_dial_spectrum(spectrum_text):\n",
    "    '''\n",
    "    takes an ms/ms spectrum as a string and returns a tuple of parallel lists?\n",
    "    '''\n",
    "    mz_int_pair_list=spectrum_text.split(' ')\n",
    "    mz_list=[float(temp_pair.split(':')[0]) for temp_pair in mz_int_pair_list]\n",
    "    intensity_list=[float(temp_pair.split(':')[1]) for temp_pair in mz_int_pair_list]\n",
    "    \n",
    "    return np.array([\n",
    "        mz_list,\n",
    "        intensity_list\n",
    "    ])"
   ]
  },
  {
   "cell_type": "code",
   "execution_count": 7,
   "id": "d940cc49",
   "metadata": {},
   "outputs": [],
   "source": [
    "def normalize_spectrum(spectrum):\n",
    "    '''\n",
    "    divides each intensity by the  max of the intensities\n",
    "    '''\n",
    "    spectrum[1]=spectrum[1]/(spectrum[1].max())\n",
    "    return spectrum"
   ]
  },
  {
   "cell_type": "code",
   "execution_count": 8,
   "id": "d887dd7a",
   "metadata": {},
   "outputs": [],
   "source": [
    "def plot_some_head_to_tails(spectra):\n",
    "    '''\n",
    "    expects a list of spectra\n",
    "    in the outer list, each spectrum is an element\n",
    "    within each of those elements, the 0th element is an array of mz and teh 1th is array of intensities\n",
    "    '''\n",
    "    \n",
    "    for spectrum in spectra:\n",
    "        #print(spectrum)\n",
    "        plt.stem(spectrum[0],spectrum[1])\n",
    "    plt.show"
   ]
  },
  {
   "cell_type": "code",
   "execution_count": 9,
   "id": "6b367f8b",
   "metadata": {},
   "outputs": [],
   "source": [
    "def make_spectra_like_similarity_metric_expects(spectra):\n",
    "    '''\n",
    "    converts an array of parallel mz and intensity into pairs of mz,intensity\n",
    "    '''\n",
    "    output_list=list()\n",
    "    for spectrum in spectra:\n",
    "        #print(spectrum)\n",
    "        output_list.append(np.column_stack(spectrum))\n",
    "        #print(output_list)\n",
    "        #hold=input('hold')\n",
    "    return output_list"
   ]
  },
  {
   "cell_type": "code",
   "execution_count": null,
   "id": "536c59c8",
   "metadata": {},
   "outputs": [],
   "source": []
  },
  {
   "cell_type": "code",
   "execution_count": 49,
   "id": "da59ba07",
   "metadata": {},
   "outputs": [],
   "source": [
    "def make_spectra_like_head_to_tails_expects(spectra):\n",
    "    '''\n",
    "    converts an array of parallel mz and intensity into pairs of mz,intensity\n",
    "    '''\n",
    "    output_list=list()\n",
    "    for spectrum in spectra:\n",
    "        #print(spectrum)\n",
    "        output_list.append(np.stack(spectrum,axis=1))\n",
    "        #print(output_list)\n",
    "        #hold=input('hold')\n",
    "    return output_list"
   ]
  },
  {
   "cell_type": "code",
   "execution_count": 50,
   "id": "54008e53",
   "metadata": {},
   "outputs": [
    {
     "data": {
      "text/plain": [
       "[array([[5.5054501e+01, 6.5038528e+01, 6.7047379e+01, 6.9069809e+01,\n",
       "         7.0065086e+01, 7.1068207e+01, 7.2080704e+01, 7.9054108e+01,\n",
       "         8.0049408e+01, 8.1069778e+01, 8.2065292e+01, 8.4044258e+01,\n",
       "         8.7044037e+01, 9.5085197e+01, 1.1006000e+02, 1.1203886e+02,\n",
       "         1.7911800e+02, 1.9609691e+02, 1.9611581e+02, 1.9616948e+02],\n",
       "        [1.2319816e-02, 2.9039334e-03, 2.5719153e-02, 4.0307920e-03,\n",
       "         7.1790325e-03, 2.9262421e-03, 3.4219292e-03, 4.1836882e-03,\n",
       "         3.1096081e-03, 7.6932195e-03, 1.4476137e-02, 5.6527941e-03,\n",
       "         1.8422428e-01, 7.2007971e-03, 2.8844702e-01, 3.3729591e-03,\n",
       "         6.9358135e-03, 2.2736758e-01, 2.7432023e-02, 1.6140307e-01]],\n",
       "       dtype=float32)]"
      ]
     },
     "execution_count": 50,
     "metadata": {},
     "output_type": "execute_result"
    }
   ],
   "source": [
    "make_spectra_like_head_to_tails_expects([example_cleaned_spectrum])"
   ]
  },
  {
   "cell_type": "code",
   "execution_count": 10,
   "id": "09575cd3",
   "metadata": {},
   "outputs": [],
   "source": [
    "    get_spectrum_sample_query=f'''\n",
    "    select spectrum from runs r\n",
    "    inner join annotations a\n",
    "    on r.run_id=a.run_id\n",
    "    where (run_type=\"Sample\") and (bin_id=1701) and (spectrum is not null)\n",
    "    '''"
   ]
  },
  {
   "cell_type": "code",
   "execution_count": 24,
   "id": "88990f83",
   "metadata": {},
   "outputs": [
    {
     "name": "stdout",
     "output_type": "stream",
     "text": [
      "36\n",
      "36\n",
      "here\n"
     ]
    },
    {
     "data": {
      "image/png": "[encoded data removed]",
      "text/plain": [
       "<Figure size 432x288 with 1 Axes>"
      ]
     },
     "metadata": {
      "needs_background": "light"
     },
     "output_type": "display_data"
    },
    {
     "data": {
      "image/png": "[encoded data removed]",
      "text/plain": [
       "<Figure size 432x288 with 1 Axes>"
      ]
     },
     "metadata": {
      "needs_background": "light"
     },
     "output_type": "display_data"
    }
   ],
   "source": [
    "input_spectra_list=execute_query(database_address,get_spectrum_sample_query)\n",
    "\n",
    "input_spectra_list=[temp_tup[0] for temp_tup in input_spectra_list]\n",
    "\n",
    "all_spectrum_list=[\n",
    "    parse_one_ms_dial_spectrum(temp_spectrum) for temp_spectrum in input_spectra_list\n",
    "]\n",
    "\n",
    "all_spectrum_list_yuanyue=make_spectra_like_similarity_metric_expects(all_spectrum_list)\n",
    "\n",
    "#plot_some_head_to_tails(all_spectrum_list)\n",
    "\n",
    "for i in range(1):\n",
    "    plot_some_head_to_tails([all_spectrum_list[i]])\n",
    "plt.show() \n",
    "\n",
    "plot_some_head_to_tails([all_spectrum_list[0]])\n",
    "plt.show()"
   ]
  },
  {
   "cell_type": "code",
   "execution_count": 25,
   "id": "4e976847",
   "metadata": {},
   "outputs": [
    {
     "name": "stdout",
     "output_type": "stream",
     "text": [
      "[[5.50181500e+01 8.62441358e-03]\n",
      " [5.50545000e+01 4.27108426e-02]\n",
      " [5.60497800e+01 7.19078403e-03]\n",
      " [6.50385300e+01 1.00674749e-02]\n",
      " [6.54793400e+01 6.17592521e-03]\n",
      " [6.70416500e+01 4.41293813e-02]\n",
      " [6.70452000e+01 6.54753708e-03]\n",
      " [6.70543300e+01 3.84872945e-02]\n",
      " [6.90698100e+01 1.39741154e-02]\n",
      " [7.00650900e+01 2.48885636e-02]\n",
      " [7.10682100e+01 1.01448154e-02]\n",
      " [7.20807000e+01 1.18632846e-02]\n",
      " [7.78933100e+01 7.91137151e-03]\n",
      " [7.90541100e+01 1.45041811e-02]\n",
      " [8.00494100e+01 1.07805170e-02]\n",
      " [8.10697800e+01 2.66711688e-02]\n",
      " [8.20652900e+01 5.01864662e-02]\n",
      " [8.30853100e+01 6.74183161e-03]\n",
      " [8.40442600e+01 1.95973387e-02]\n",
      " [8.40807200e+01 7.10778442e-03]\n",
      " [8.70440400e+01 6.38676307e-01]\n",
      " [9.26526300e+01 6.56262792e-03]\n",
      " [9.50852000e+01 2.49640178e-02]\n",
      " [9.80593800e+01 6.37965151e-03]\n",
      " [9.80957600e+01 7.69066801e-03]\n",
      " [1.09052630e+02 9.70718116e-03]\n",
      " [1.10060000e+02 1.00000000e+00]\n",
      " [1.12038860e+02 1.16935126e-02]\n",
      " [1.16848400e+02 7.00969398e-03]\n",
      " [1.19085850e+02 8.06416624e-03]\n",
      " [1.25070480e+02 6.91537624e-03]\n",
      " [1.39845920e+02 5.63454142e-03]\n",
      " [1.45322510e+02 6.58149147e-03]\n",
      " [1.61107620e+02 9.28841043e-03]\n",
      " [1.68120500e+02 8.67723151e-03]\n",
      " [1.79118000e+02 2.40453631e-02]\n",
      " [1.96096910e+02 7.88247256e-01]\n",
      " [1.96115810e+02 9.51024574e-02]\n",
      " [1.96169480e+02 5.59558819e-01]]\n"
     ]
    }
   ],
   "source": [
    "print(all_spectrum_list_yuanyue[0])"
   ]
  },
  {
   "cell_type": "code",
   "execution_count": null,
   "id": "7c680ba2",
   "metadata": {},
   "outputs": [],
   "source": [
    "def clean_spectrum(spectrum,\n",
    "                   max_mz: float = None,\n",
    "                   noise_removal: float = 0.01,\n",
    "                   ms2_da: float = 0.05, ms2_ppm: float = None) -> np.ndarray:\n",
    "    \"\"\"\n",
    "    Clean the spectrum with the following procedures:\n",
    "    1. Remove ions have m/z higher than a given m/z (defined as max_mz).\n",
    "    2. Centroid peaks by merging peaks within a given m/z (defined as ms2_da or ms2_ppm).\n",
    "    3. Remove ions have intensity lower than max intensity * fixed value (defined as noise_removal)\n",
    "    \n",
    "    \n",
    "    :param spectrum: The input spectrum, need to be in 2-D list or 2-D numpy array\n",
    "    :param max_mz: The ions with m/z higher than max_mz will be removed.\n",
    "    :param noise_removal: The ions with intensity lower than max ion's intensity * noise_removal will be removed.\n",
    "    :param ms2_da: The MS/MS tolerance in Da.\n",
    "    :param ms2_ppm: The MS/MS tolerance in ppm.\n",
    "    If both ms2_da and ms2_ppm is given, ms2_da will be used.\n",
    "    \"\"\"\n"
   ]
  },
  {
   "cell_type": "code",
   "execution_count": 17,
   "id": "e0be859e",
   "metadata": {},
   "outputs": [],
   "source": []
  },
  {
   "cell_type": "code",
   "execution_count": 63,
   "id": "d87e4f6c",
   "metadata": {},
   "outputs": [],
   "source": [
    "example_cleaned_spectrum=spectral_entropy.tools.clean_spectrum(\n",
    "    all_spectrum_list_yuanyue[0],\n",
    "    noise_removal=0.01,\n",
    "    ms2_da=0.03\n",
    ")"
   ]
  },
  {
   "cell_type": "code",
   "execution_count": 32,
   "id": "e43b1cce",
   "metadata": {},
   "outputs": [
    {
     "data": {
      "image/png": "[encoded data removed]",
      "text/plain": [
       "<Figure size 432x288 with 1 Axes>"
      ]
     },
     "metadata": {
      "needs_background": "light"
     },
     "output_type": "display_data"
    }
   ],
   "source": []
  },
  {
   "cell_type": "code",
   "execution_count": 52,
   "id": "dd190110",
   "metadata": {},
   "outputs": [
    {
     "data": {
      "text/plain": [
       "[array([[5.5054501e+01, 6.5038528e+01, 6.7047379e+01, 6.9069809e+01,\n",
       "         7.0065086e+01, 7.1068207e+01, 7.2080704e+01, 7.9054108e+01,\n",
       "         8.0049408e+01, 8.1069778e+01, 8.2065292e+01, 8.4044258e+01,\n",
       "         8.7044037e+01, 9.5085197e+01, 1.1006000e+02, 1.1203886e+02,\n",
       "         1.7911800e+02, 1.9609691e+02, 1.9611581e+02, 1.9616948e+02],\n",
       "        [1.2319816e-02, 2.9039334e-03, 2.5719153e-02, 4.0307920e-03,\n",
       "         7.1790325e-03, 2.9262421e-03, 3.4219292e-03, 4.1836882e-03,\n",
       "         3.1096081e-03, 7.6932195e-03, 1.4476137e-02, 5.6527941e-03,\n",
       "         1.8422428e-01, 7.2007971e-03, 2.8844702e-01, 3.3729591e-03,\n",
       "         6.9358135e-03, 2.2736758e-01, 2.7432023e-02, 1.6140307e-01]],\n",
       "       dtype=float32)]"
      ]
     },
     "execution_count": 52,
     "metadata": {},
     "output_type": "execute_result"
    }
   ],
   "source": [
    "make_spectra_like_head_to_tails_expects([example_cleaned_spectrum])"
   ]
  },
  {
   "cell_type": "code",
   "execution_count": 53,
   "id": "c3d0c26b",
   "metadata": {},
   "outputs": [
    {
     "data": {
      "text/plain": [
       "array([[5.50181500e+01, 5.50545000e+01, 5.60497800e+01, 6.50385300e+01,\n",
       "        6.54793400e+01, 6.70416500e+01, 6.70452000e+01, 6.70543300e+01,\n",
       "        6.90698100e+01, 7.00650900e+01, 7.10682100e+01, 7.20807000e+01,\n",
       "        7.78933100e+01, 7.90541100e+01, 8.00494100e+01, 8.10697800e+01,\n",
       "        8.20652900e+01, 8.30853100e+01, 8.40442600e+01, 8.40807200e+01,\n",
       "        8.70440400e+01, 9.26526300e+01, 9.50852000e+01, 9.80593800e+01,\n",
       "        9.80957600e+01, 1.09052630e+02, 1.10060000e+02, 1.12038860e+02,\n",
       "        1.16848400e+02, 1.19085850e+02, 1.25070480e+02, 1.39845920e+02,\n",
       "        1.45322510e+02, 1.61107620e+02, 1.68120500e+02, 1.79118000e+02,\n",
       "        1.96096910e+02, 1.96115810e+02, 1.96169480e+02],\n",
       "       [8.62441358e-03, 4.27108426e-02, 7.19078403e-03, 1.00674749e-02,\n",
       "        6.17592521e-03, 4.41293813e-02, 6.54753708e-03, 3.84872945e-02,\n",
       "        1.39741154e-02, 2.48885636e-02, 1.01448154e-02, 1.18632846e-02,\n",
       "        7.91137151e-03, 1.45041811e-02, 1.07805170e-02, 2.66711688e-02,\n",
       "        5.01864662e-02, 6.74183161e-03, 1.95973387e-02, 7.10778442e-03,\n",
       "        6.38676307e-01, 6.56262792e-03, 2.49640178e-02, 6.37965151e-03,\n",
       "        7.69066801e-03, 9.70718116e-03, 1.00000000e+00, 1.16935126e-02,\n",
       "        7.00969398e-03, 8.06416624e-03, 6.91537624e-03, 5.63454142e-03,\n",
       "        6.58149147e-03, 9.28841043e-03, 8.67723151e-03, 2.40453631e-02,\n",
       "        7.88247256e-01, 9.51024574e-02, 5.59558819e-01]])"
      ]
     },
     "execution_count": 53,
     "metadata": {},
     "output_type": "execute_result"
    }
   ],
   "source": [
    "all_spectrum_list[0]"
   ]
  },
  {
   "cell_type": "code",
   "execution_count": 54,
   "id": "9cf3de6c",
   "metadata": {},
   "outputs": [
    {
     "data": {
      "image/png": "[encoded data removed]",
      "text/plain": [
       "<Figure size 432x288 with 1 Axes>"
      ]
     },
     "metadata": {
      "needs_background": "light"
     },
     "output_type": "display_data"
    }
   ],
   "source": [
    "\n",
    "\n",
    "\n",
    "plot_some_head_to_tails(\n",
    "    make_spectra_like_head_to_tails_expects([example_cleaned_spectrum])\n",
    ")\n",
    "plt.show()"
   ]
  },
  {
   "cell_type": "code",
   "execution_count": 58,
   "id": "57bd8d8f",
   "metadata": {},
   "outputs": [
    {
     "data": {
      "image/png": "[encoded data removed]",
      "text/plain": [
       "<Figure size 432x288 with 1 Axes>"
      ]
     },
     "metadata": {
      "needs_background": "light"
     },
     "output_type": "display_data"
    }
   ],
   "source": [
    "plot_some_head_to_tails([all_spectrum_list[0]])\n",
    "plt.show()"
   ]
  },
  {
   "cell_type": "code",
   "execution_count": 64,
   "id": "76a69db3",
   "metadata": {},
   "outputs": [
    {
     "data": {
      "image/png": "[encoded data removed]",
      "text/plain": [
       "<Figure size 432x288 with 1 Axes>"
      ]
     },
     "metadata": {
      "needs_background": "light"
     },
     "output_type": "display_data"
    }
   ],
   "source": [
    "plot_some_head_to_tails(\n",
    "    make_spectra_like_head_to_tails_expects([example_cleaned_spectrum])\n",
    ")\n",
    "plt.show()"
   ]
  },
  {
   "cell_type": "code",
   "execution_count": null,
   "id": "a896d66c",
   "metadata": {},
   "outputs": [],
   "source": []
  }
 ],
 "metadata": {
  "kernelspec": {
   "display_name": "Python 3 (ipykernel)",
   "language": "python",
   "name": "python3"
  },
  "language_info": {
   "codemirror_mode": {
    "name": "ipython",
    "version": 3
   },
   "file_extension": ".py",
   "mimetype": "text/x-python",
   "name": "python",
   "nbconvert_exporter": "python",
   "pygments_lexer": "ipython3",
   "version": "3.9.12"
  }
 },
 "nbformat": 4,
 "nbformat_minor": 5
}
