{
 "cells": [
  {
   "cell_type": "code",
   "execution_count": null,
   "id": "0e53efd0",
   "metadata": {},
   "outputs": [],
   "source": [
    "import pandas as pd"
   ]
  },
  {
   "cell_type": "code",
   "execution_count": null,
   "id": "80218571",
   "metadata": {},
   "outputs": [],
   "source": [
    "positive_dataset_address='/Users/parker.bremer/coding_projects/bucketbase/data/total_features_lists/HILIC_Features_Database_-_May_2022_-_Positive_Mode_Features.tsv'"
   ]
  },
  {
   "cell_type": "code",
   "execution_count": null,
   "id": "3f0e52be",
   "metadata": {},
   "outputs": [],
   "source": [
    "negative_dataset_address='/Users/parker.bremer/coding_projects/bucketbase/data/total_features_lists/HILIC_Features_Database_-_May_2022_-_Negative_Mode_Features.tsv'"
   ]
  },
  {
   "cell_type": "code",
   "execution_count": null,
   "id": "00dec642",
   "metadata": {},
   "outputs": [],
   "source": [
    "positive_mode_panda=pd.read_csv(positive_dataset_address,sep='\\t')"
   ]
  },
  {
   "cell_type": "code",
   "execution_count": null,
   "id": "f597cfae",
   "metadata": {},
   "outputs": [],
   "source": [
    "negative_mode_panda=pd.read_csv(negative_dataset_address,sep='\\t')"
   ]
  },
  {
   "cell_type": "code",
   "execution_count": null,
   "id": "87e01634",
   "metadata": {},
   "outputs": [],
   "source": [
    "positive_inchikey_list=[\n",
    " 'HNDVDQJCIGZPNO-YFKPBYRVSA-N',\n",
    " 'OEYIOHPDSNJKLS-UHFFFAOYSA-N',\n",
    " 'KDXKERNSBIXSRK-YFKPBYRVSA-N',\n",
    " 'FDGQSTZJBFJUBT-UHFFFAOYSA-N',\n",
    " 'NWGZOALPWZDXNG-UHFFFAOYSA-N',\n",
    " 'OPTASPLRGRRNAP-UHFFFAOYSA-N',\n",
    " 'ODKSFYDXXFIFQN-BYPYZUCNSA-N',\n",
    " 'FFEARJCKVFRZRR-BYPYZUCNSA-N',\n",
    " 'RHGKLRLOHDJJDR-BYPYZUCNSA-N',\n",
    " 'DTERQYGMUDWYAZ-ZETCQYMHSA-N',\n",
    " 'QEFRNWWLZKMPFJ-YGVKFDHGSA-N',\n",
    " 'GSEJCLTVZPLZKY-UHFFFAOYSA-N',\n",
    " 'DDRJAANPRJIHGJ-UHFFFAOYSA-N',\n",
    " 'GHOKWGTUZJEAQD-ZETCQYMHSA-N',\n",
    " 'NTYJJOPFIAHURM-UHFFFAOYSA-N',\n",
    " 'WUUGFSXJNOTRMR-IOSLPCCCSA-N',\n",
    " 'AGPKZVBTJJNPAG-WHFBIAKZSA-N',\n",
    " 'UGQMRVRMYYASKQ-KQYNXXCUSA-N',\n",
    " 'COLNVLDHVKWLRT-QMMMGPOBSA-N',\n",
    " 'OUYCCCASQSFEME-QMMMGPOBSA-N',\n",
    " 'MTCFGRXMJLQNBG-REOHCLBHSA-N',\n",
    " 'DFPAKSUCGFBDDF-UHFFFAOYSA-N',\n",
    " 'ZDXPYRJPNDTMRX-VKHMYHEASA-N',\n",
    " 'JZRWCGZRTZMZEH-UHFFFAOYSA-N',\n",
    " 'GFFGJBXGBJISGV-UHFFFAOYSA-N',\n",
    " 'WHUUTDBJXJRKMK-VKHMYHEASA-N',\n",
    " 'KWIUHFFTVRNATP-UHFFFAOYSA-N',\n",
    " 'QIVBCDIJIAJPQS-VIFPVBQESA-N',\n",
    " 'ROHFNLRQFUQHCH-YFKPBYRVSA-N',\n",
    " 'PQNASZJZHFPQLE-UHFFFAOYSA-N',\n",
    " 'QWYFHHGCZUCMBN-SECBINFHSA-N',\n",
    " 'LOIYMIARKYCTBW-OWOJBTEDSA-N']\n",
    "]"
   ]
  },
  {
   "cell_type": "code",
   "execution_count": null,
   "id": "d258e0db",
   "metadata": {},
   "outputs": [],
   "source": [
    "negative_inchikey_list=[\n",
    " 'KDYFGRWQOYBRFD-UHFFFAOYSA-N',\n",
    " 'ODKSFYDXXFIFQN-BYPYZUCNSA-N',\n",
    " 'HNDVDQJCIGZPNO-YFKPBYRVSA-N',\n",
    " 'DRTQHJPVMGBUCF-XVFCMESISA-N',\n",
    " 'MTCFGRXMJLQNBG-REOHCLBHSA-N',\n",
    " 'GHOKWGTUZJEAQD-ZETCQYMHSA-N',\n",
    " 'UGQMRVRMYYASKQ-KQYNXXCUSA-N',\n",
    " 'NBIIXXVUZAFLBC-UHFFFAOYSA-N',\n",
    " 'PXQPEWDEAKTCGB-UHFFFAOYSA-N',\n",
    " 'WHUUTDBJXJRKMK-VKHMYHEASA-N',\n",
    " 'KBOJOGQFRVVWBH-ZETCQYMHSA-N',\n",
    " 'RHGKLRLOHDJJDR-BYPYZUCNSA-N',\n",
    " 'COLNVLDHVKWLRT-QMMMGPOBSA-N',\n",
    " 'XOAAWQZATWQOTB-UHFFFAOYSA-N',\n",
    " 'FDGQSTZJBFJUBT-UHFFFAOYSA-N',\n",
    " 'QNAYBMKLOCPYGJ-REOHCLBHSA-N',\n",
    " 'LRFVTYWOQMYALW-UHFFFAOYSA-N',\n",
    " 'ROHFNLRQFUQHCH-YFKPBYRVSA-N',\n",
    " 'GFFGJBXGBJISGV-UHFFFAOYSA-N',\n",
    " 'WXUAQHNMJWJLTG-UHFFFAOYSA-N',\n",
    " 'PTJWIQPHWPFNBW-GBNDHIKLSA-N'  \n",
    "]"
   ]
  },
  {
   "cell_type": "code",
   "execution_count": null,
   "id": "ff20437d",
   "metadata": {},
   "outputs": [],
   "source": [
    "ms_dial_names_to_annotation_names_dict={\n",
    "    '1_Methionine_d8':['Methionine-d8','1_Methionine_d8','1_D8-Methionine iSTD','D8-Methionine iSTD'],\n",
    "    '1_1-Methylnicotinamide_d3':['D3-1-Methylnicotinamide iSTD; [M+H]+; HCD (NCE 20-30-40%)','1_1_Methylnicotinamide_d3','1_D3-1-Methylnicotinamide iSTD','D3-1-Methylnicotinamide iSTD','1_D3-1-Methylnicotinamide','1-Methylnicotinamide_d3'],\n",
    "    '1_Creatinine_d5':['1_Creatinine_d3','1_D3-Creatine iSTD','D3-Creatinine iSTD','Creatinine-d3'],\n",
    "    '1_Carnitine_d3':['Carnitine-d3','Carnitine_d3','1_Carnitine_d3','D3-L-Carnitine iSTD','1_D3-Carnitine iSTD'],\n",
    "    '1_Acetylecarnitine_d3':['D3-AC(2:0) iSTD; [M+H]+; HCD (NCE 20-30-40%)','1_Acetylcarnitine_d3','1_D3-AcetylCarnitine','Acetylcarnitine_d3','D3-AC(2:0) iSTD'],\n",
    "    '1_TMAO_d9':['D9-TMAO iSTD; [M+H]+; HCD (NCE 20-30-40%)','D9-TMAO iSTD','1_TMAO_d9','1_D9-TMAO iSTD','TMAOd9'],\n",
    "    '1_Choline_d9':['D9-Choline iSTD; [M+H]+; HCD (NCE 20-30-40%)','1_Choline_d9','D9-Choline iSTD','1_D9-Choline iSTD'],\n",
    "    '1_Glutamine_d5':['D5-Glutamine iSTD; [M+H]+; HCD (NCE 20-30-40%)','1_Glutamine_d5','1_D5-Glutamine iSTD','1_D5-L-Glutamine','1_D5-L-Glutamine iSTD','1_Glutamine_d6'],\n",
    "    '1_Glutamic Acid_d3':['D3-Glutamic acid iSTD','D3-DL-Glutamic acid iSTD','1_Glutamic Acid_d3','1_D3-Glutamic acid iSTD','Glutamic Acid d3','Glutamine_d5'],\n",
    "    '1_Arginine_d7':['1_Arginine_d7','D7-Arginine iSTD','Arginine_d7','Arginine d7'],\n",
    "    '1_Alanine_d3':['1_D3-Alanine iSTD','D3-DL-Alanine iSTD'],\n",
    "    '1_Valine_d8':['Valine-d8','1_Valine_d8'],\n",
    "    '1_Tryptophan_d5':['Tryptophan-d5','1_Tryptophan-d5','Tryptophan d5','1_Tryptophan_d5'],\n",
    "    '1_Serine_d3':['Serine-d8','1_Serine-d8','1_Serine-d3','Serine d8','Serine_d8','1_Serine_d8'],\n",
    "    '1_Lysine_d8':['Lysine-d8','1_Lysine-d8'],\n",
    "    '1_Phenylalanine_d8':['Phenylalanine-d8','1_Phenylalanine-d8','Phenylalanine d8','1_Phenylalanine_d8'],\n",
    "    '1_HippuricAcid_d5':['HippuricAcid-d5','1_HippuricAcid-d5','1_Hippuric Acid d5','1_HippuricAcid_d5','Hippuric Acid d5','1_d5_Hippuric Acid'],\n",
    "    '1_CUDA':['CUDA','1_CUDA','CUDA iSTD','1_CUDA iSTD']\n",
    "}"
   ]
  },
  {
   "cell_type": "code",
   "execution_count": null,
   "id": "05432941",
   "metadata": {},
   "outputs": [],
   "source": []
  },
  {
   "cell_type": "code",
   "execution_count": null,
   "id": "c269e7c4",
   "metadata": {},
   "outputs": [],
   "source": []
  },
  {
   "cell_type": "code",
   "execution_count": null,
   "id": "6ca1d1c4",
   "metadata": {},
   "outputs": [],
   "source": []
  },
  {
   "cell_type": "code",
   "execution_count": null,
   "id": "bc75c308",
   "metadata": {},
   "outputs": [],
   "source": []
  },
  {
   "cell_type": "code",
   "execution_count": null,
   "id": "ee604c3d",
   "metadata": {},
   "outputs": [],
   "source": []
  },
  {
   "cell_type": "code",
   "execution_count": null,
   "id": "4185afb2",
   "metadata": {},
   "outputs": [],
   "source": []
  },
  {
   "cell_type": "code",
   "execution_count": null,
   "id": "618d3ce6",
   "metadata": {},
   "outputs": [],
   "source": []
  },
  {
   "cell_type": "code",
   "execution_count": null,
   "id": "9b2baa4f",
   "metadata": {},
   "outputs": [],
   "source": []
  }
 ],
 "metadata": {
  "kernelspec": {
   "display_name": "Python 3 (ipykernel)",
   "language": "python",
   "name": "python3"
  },
  "language_info": {
   "codemirror_mode": {
    "name": "ipython",
    "version": 3
   },
   "file_extension": ".py",
   "mimetype": "text/x-python",
   "name": "python",
   "nbconvert_exporter": "python",
   "pygments_lexer": "ipython3",
   "version": "3.9.12"
  }
 },
 "nbformat": 4,
 "nbformat_minor": 5
}
