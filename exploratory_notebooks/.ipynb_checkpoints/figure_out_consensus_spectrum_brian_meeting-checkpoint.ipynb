{
 "cells": [
  {
   "cell_type": "code",
   "execution_count": 1,
   "id": "b8373dca",
   "metadata": {},
   "outputs": [],
   "source": [
    "import numpy as np\n",
    "import sqlalchemy\n",
    "import matplotlib.pyplot as plt\n",
    "import math\n",
    "import seaborn as sns\n",
    "from collections import Counter\n",
    "import spectral_entropy\n",
    "from scipy.spatial import distance\n",
    "from scipy.cluster import hierarchy"
   ]
  },
  {
   "cell_type": "code",
   "execution_count": 2,
   "id": "b5e90537",
   "metadata": {},
   "outputs": [],
   "source": [
    "from collections import Counter"
   ]
  },
  {
   "cell_type": "code",
   "execution_count": 3,
   "id": "ccd7f1f6",
   "metadata": {},
   "outputs": [],
   "source": [
    "database_address='../../data/database/bucketbase.db'"
   ]
  },
  {
   "cell_type": "code",
   "execution_count": 4,
   "id": "5cb836f4",
   "metadata": {},
   "outputs": [],
   "source": [
    "def execute_query(database_addres,query_string):\n",
    "    '''\n",
    "    \n",
    "    '''\n",
    "    engine=sqlalchemy.create_engine(f\"sqlite:///{database_address}\")\n",
    "    connection=engine.connect()\n",
    "\n",
    "    temp_cursor=connection.execute(\n",
    "        query_string\n",
    "    )\n",
    "\n",
    "    temp_result=temp_cursor.fetchall()\n",
    "    #print(temp_result)\n",
    "    print(f'we have this many associated spectra {len(temp_result)}')\n",
    "    #print(len(temp_result))\n",
    "    \n",
    "    connection.close()\n",
    "    engine.dispose()\n",
    "    #print(len(temp_result))\n",
    "\n",
    "    if len(temp_result)==0:\n",
    "        return -1\n",
    "    elif len(temp_result)>1:\n",
    "        print('here')\n",
    "        return temp_result\n",
    "\n"
   ]
  },
  {
   "cell_type": "code",
   "execution_count": 5,
   "id": "c47ae0bd",
   "metadata": {},
   "outputs": [],
   "source": [
    "def parse_one_ms_dial_spectrum(spectrum_text):\n",
    "    '''\n",
    "    takes an ms/ms spectrum as a string and returns a tuple of parallel lists?\n",
    "    '''\n",
    "    mz_int_pair_list=spectrum_text.split(' ')\n",
    "    mz_list=[float(temp_pair.split(':')[0]) for temp_pair in mz_int_pair_list]\n",
    "    intensity_list=[float(temp_pair.split(':')[1]) for temp_pair in mz_int_pair_list]\n",
    "    \n",
    "    return np.array([\n",
    "        mz_list,\n",
    "        intensity_list\n",
    "    ])"
   ]
  },
  {
   "cell_type": "code",
   "execution_count": null,
   "id": "4bc72a48",
   "metadata": {},
   "outputs": [],
   "source": []
  },
  {
   "cell_type": "code",
   "execution_count": 6,
   "id": "f531d74d",
   "metadata": {},
   "outputs": [],
   "source": [
    "def convert_np_spectrum_to_text(spectrum_array):\n",
    "    '''\n",
    "    takes an ms/ms spectrum in our numpy array format and converts it to string\n",
    "    '''\n",
    "    string_rep=[\n",
    "        str(spectrum_array[0][i])+':'+str(spectrum_array[1][i]) for i in range(len(spectrum_array[0]))\n",
    "    ]\n",
    "    return ' '.join(string_rep)"
   ]
  },
  {
   "cell_type": "code",
   "execution_count": 7,
   "id": "57a1f080",
   "metadata": {},
   "outputs": [],
   "source": [
    "def plot_some_head_to_tails(spectra,temp_axis,is_consensus=False):\n",
    "    '''\n",
    "    expects a list of spectra\n",
    "    in the outer list, each spectrum is an element\n",
    "    within each of those elements, the 0th element is an array of mz and teh 1th is array of intensities\n",
    "    '''\n",
    "    \n",
    "    for spectrum in spectra:\n",
    "        #print(spectrum)\n",
    "        if is_consensus==False:\n",
    "            temp_axis.stem(spectrum[0],spectrum[1])\n",
    "        else:\n",
    "            temp_axis.stem(spectrum[0],-1*spectrum[1])\n",
    "    "
   ]
  },
  {
   "cell_type": "code",
   "execution_count": 8,
   "id": "d0a832d6",
   "metadata": {},
   "outputs": [],
   "source": [
    "def make_distance_matrix(spectra):\n",
    "    #this is very slow. we should refactor this so that we use an intrinsically vectorized approach using scipy\n",
    "    \n",
    "    similarity_matrix=np.zeros(\n",
    "        shape=(len(spectra),len(spectra))\n",
    "    )\n",
    "    \n",
    "    #clean spectra\n",
    "    #i think we should only put cleaned spectra into the database\n",
    "    \n",
    "    \n",
    "    \n",
    "    \n",
    "    for i in range(len(spectra)):\n",
    "        #if i%50==0:\n",
    "        #    print(i)\n",
    "        #for j in range(i,len(spectra)):\n",
    "        for j in range(i,len(spectra)):\n",
    "            #try:\n",
    "            similarity_matrix[i][j]=spectral_entropy.similarity(\n",
    "                spectra[i], spectra[j], \n",
    "                method='dot_product',ms2_da=0.1,\n",
    "                need_clean_spectra=True,\n",
    "                #need_normalize_result=False\n",
    "            )\n",
    "#             except IndexError:\n",
    "#                 print(spectra[i])\n",
    "#                 print(spectra[j])\n",
    "#                 print('$$$$$$$$$$$$$$$$$$$$$$')\n",
    "                \n",
    "    #sns.heatmap(similarity_matrix)\n",
    "    #plt.show()    \n",
    "    #print(np.diagonal(similarity_matrix))\n",
    "    #print('------------------------------------------')\n",
    "    \n",
    "    \n",
    "    similarity_matrix=np.triu(similarity_matrix)\n",
    "    similarity_matrix=similarity_matrix+similarity_matrix.T-np.diag(np.diag(similarity_matrix))\n",
    "    \n",
    "    \n",
    "    \n",
    "    ############DANGER##############\n",
    "    #getting some error where 1 was being rep'd as 0.9999999\n",
    "    #so i just manually set\n",
    "    np.fill_diagonal(similarity_matrix,1)\n",
    "    ###############################\n",
    "    distance_matrix=1-similarity_matrix\n",
    "    #make symmetric\n",
    "    \n",
    "    #sns.heatmap(distance_matrix)\n",
    "    #plt.show()\n",
    "    distance_matrix_flattened=distance.squareform(distance_matrix)\n",
    "    #sns.heatmap(distance.squareform(distance_matrix_flattened))\n",
    "    #plt.show()\n",
    "    return similarity_matrix,distance_matrix_flattened\n",
    "    ######similarity_matrix_flattened=distance.squareform(similarity_matrix)\n",
    "    ######return similarity_matrix,similarity_matrix_flattened"
   ]
  },
  {
   "cell_type": "code",
   "execution_count": 9,
   "id": "25bfa760",
   "metadata": {},
   "outputs": [],
   "source": [
    "def make_spectra_like_similarity_metric_expects(spectra):\n",
    "    '''\n",
    "    converts an array of parallel mz and intensity into pairs of mz,intensity\n",
    "    '''\n",
    "    output_list=list()\n",
    "    for spectrum in spectra:\n",
    "        #print(spectrum)\n",
    "        output_list.append(np.column_stack(spectrum))\n",
    "        #print(output_list)\n",
    "        #hold=input('hold')\n",
    "    return output_list"
   ]
  },
  {
   "cell_type": "code",
   "execution_count": 10,
   "id": "6f5f45c7",
   "metadata": {},
   "outputs": [],
   "source": [
    "def get_list_of_bin_id_with_spectra():\n",
    "    query='''SELECT bin_id,count(*)\n",
    "    from annotations a\n",
    "    where (spectrum is not null)\n",
    "    group by bin_id\n",
    "    '''\n",
    "    spectrum_population_data=execute_query(database_address,query)\n",
    "    #bin_ids=[element[0] for element in spectrum_population_data]\n",
    "    #populations=[element[1] for element in spectrum_population_data]\n",
    "    \n",
    "    bin_id_sorted_by_pop=[\n",
    "        x for x,_ in sorted(spectrum_population_data, key=lambda pair: pair[1],reverse=True)\n",
    "    ]\n",
    "    populations_sorted_by_pop=[\n",
    "        x for _,x in sorted(spectrum_population_data, key=lambda pair: pair[1],reverse=True)\n",
    "    ]\n",
    "    #print(bin_id_sorted_by_pop)\n",
    "    #print(populations_sorted_by_pop)\n",
    "    return(bin_id_sorted_by_pop)"
   ]
  },
  {
   "cell_type": "code",
   "execution_count": 11,
   "id": "0d15d278",
   "metadata": {},
   "outputs": [
    {
     "name": "stdout",
     "output_type": "stream",
     "text": [
      "we have this many associated spectra 2946\n",
      "here\n"
     ]
    }
   ],
   "source": [
    "bin_ids_pop_desc=get_list_of_bin_id_with_spectra()"
   ]
  },
  {
   "cell_type": "code",
   "execution_count": 12,
   "id": "86a03dba",
   "metadata": {},
   "outputs": [],
   "source": [
    "def make_spectra_like_head_to_tails_expects(spectra):\n",
    "    '''\n",
    "    converts an array of parallel mz and intensity into pairs of mz,intensity\n",
    "    '''\n",
    "    output_list=list()\n",
    "    for spectrum in spectra:\n",
    "        #print(spectrum)\n",
    "        output_list.append(np.stack(spectrum,axis=1))\n",
    "        #print(output_list)\n",
    "        #hold=input('hold')\n",
    "    return output_list"
   ]
  },
  {
   "cell_type": "code",
   "execution_count": 13,
   "id": "3a9b0df9",
   "metadata": {},
   "outputs": [],
   "source": [
    "def generate_bin_groups(bins, bin_space_tolerance):\n",
    "    '''\n",
    "    the idea is that we want to group together small clusters of bins (in case there)\n",
    "    is a spread of mz. to do this, we iterate over all of the bins. for each bin,\n",
    "    if it is very lcose to an already encountered bin, we group them. else, they are\n",
    "    put in a new, separate bin.\n",
    "    \n",
    "    #an m/z can be assigned to multiple m/z groups\n",
    "    '''\n",
    "    #output_bin_dict=dict()\n",
    "    #for temp_bin in bins:\n",
    "    #bins.sort()\n",
    "    #print(bin_space_tolerance)\n",
    "    #print(bins)\n",
    "    output_dict=dict()\n",
    "    for temp_bin in bins:\n",
    "        #for j in range(j,len(bins)):\n",
    "        found_match=False\n",
    "        for temp_key in output_dict.keys():\n",
    "            for temp_value in output_dict[temp_key].copy():\n",
    "                #print(temp_value)\n",
    "                #print(temp_bin)\n",
    "                #print(type(temp_value))\n",
    "                #print(type(temp_bin))\n",
    "                #print()\n",
    "                if (abs(temp_bin-temp_value)<=bin_space_tolerance):\n",
    "                    output_dict[temp_key].add(temp_bin)\n",
    "                    found_match=True\n",
    "        if found_match==False:\n",
    "            output_dict[temp_bin]={temp_bin}\n",
    "        #print(output_dict)\n",
    "        \n",
    "    \n",
    "    for temp_key in output_dict.keys():\n",
    "        for temp_value in output_dict[temp_key].copy():\n",
    "            output_dict[temp_key].add(temp_value+1)\n",
    "            output_dict[temp_key].add(temp_value-1)\n",
    "    \n",
    "    return output_dict"
   ]
  },
  {
   "cell_type": "code",
   "execution_count": 14,
   "id": "db304253",
   "metadata": {},
   "outputs": [],
   "source": [
    "def find_bin_identities_with_x_percent_present(bin_identities,percent_present,spectrum_count):\n",
    "    '''\n",
    "    we want to find bins where the ion is found \"at least 80 percent of the time\"\n",
    "    or whatever\n",
    "    so, we calculate a minimum count from percent_present and spectrum_count\n",
    "    then find the identity of each bin posseing that count\n",
    "    '''\n",
    "    minimum_count=math.floor(spectrum_count*percent_present)\n",
    "    #print(minimum_count)\n",
    "    #print(percent_present)\n",
    "    #print(spectrum_count)\n",
    "    my_counter=Counter(bin_identities)\n",
    "    #print(my_counter)\n",
    "    bins_meeting_count=[\n",
    "        temp_bin for temp_bin in my_counter.keys() if my_counter[temp_bin]>minimum_count\n",
    "    ]\n",
    "    #print(bins_meeting_count)\n",
    "    return bins_meeting_count"
   ]
  },
  {
   "cell_type": "code",
   "execution_count": 15,
   "id": "e3b542e9",
   "metadata": {},
   "outputs": [],
   "source": [
    "def generate_consensus_spectrum(spectra,ms2_tolerance_Da,percent_present,bin_space_tolerance):\n",
    "    '''\n",
    "    creates a consensus spectrum\n",
    "    input:list of spectra, each spectrum expressed as 2xn np.array where 2,0 is mz and 2,1 is intensity\n",
    "    1) get number of spectra\n",
    "    2) concatenate each\n",
    "    '''\n",
    "    \n",
    "    spectrum_count=len(spectra)\n",
    "    \n",
    "    all_mz_list=[spectrum[0] for spectrum in spectra]\n",
    "    all_intensity_list=[spectrum[1] for spectrum in spectra]\n",
    "    \n",
    "    all_mz=np.concatenate(all_mz_list,dtype=object)\n",
    "    all_intensity=np.concatenate(all_intensity_list,dtype=object)\n",
    "    \n",
    "    #print(all_mz)\n",
    "    #print(all_intensity)\n",
    "    \n",
    "    bins=np.arange(all_mz.min(),all_mz.max()+ms2_tolerance_Da,ms2_tolerance_Da)\n",
    "    \n",
    "    #print(bins)\n",
    "    bin_identities=np.digitize(\n",
    "        all_mz,\n",
    "        bins\n",
    "    )\n",
    "    \n",
    "    #print(bin_identities)\n",
    "    meaningful_bin_identities=find_bin_identities_with_x_percent_present(bin_identities,percent_present,spectrum_count)\n",
    "    #print(meaningful_bin_identities)\n",
    "    #print('-----------------')\n",
    "    meaningful_bin_groupings=generate_bin_groups(meaningful_bin_identities,bin_space_tolerance)\n",
    "    #print(all_mz.min())\n",
    "    #print(all_mz.max())\n",
    "    #print(meaningful_bin_identities)\n",
    "    #print(meaningful_bin_groupings)\n",
    "    average_mz_list,average_intensity_list=find_average_mz_and_intensity(\n",
    "        bin_identities,\n",
    "        all_mz,\n",
    "        all_intensity,\n",
    "        meaningful_bin_groupings\n",
    "    )\n",
    "    return np.array(\n",
    "        [average_mz_list,average_intensity_list]\n",
    "    )"
   ]
  },
  {
   "cell_type": "code",
   "execution_count": 16,
   "id": "e27fa5ff",
   "metadata": {},
   "outputs": [],
   "source": [
    "def find_average_mz_and_intensity(\n",
    "    bin_identities,\n",
    "    all_mz,\n",
    "    all_intensities,\n",
    "    meaningful_bin_groupings\n",
    "):\n",
    "    '''\n",
    "    the idea is that we \n",
    "    '''\n",
    "    output_mz_list=list()\n",
    "    output_intensity_list=list()\n",
    "\n",
    "    for temp_key in meaningful_bin_groupings.keys():\n",
    "        #we get a set of bin identities that we want\n",
    "        temp_bins_of_interest=meaningful_bin_groupings[temp_key]\n",
    "        #we map those bin identities to the indexes of bin_identities\n",
    "        interesting_indexes=[\n",
    "            i for i,element in enumerate(bin_identities) if (element in temp_bins_of_interest)\n",
    "        ]\n",
    "        interesting_mz=all_mz[interesting_indexes]\n",
    "        interesting_intensities=all_intensities[interesting_indexes]\n",
    "        #print(temp_bins_of_interest)\n",
    "        #print(interesting_indexes)\n",
    "        #print(interesting_mz)\n",
    "        #print(interesting_intensities)\n",
    "        output_mz_list.append(interesting_mz.mean())\n",
    "        output_intensity_list.append(interesting_intensities.mean())\n",
    "        \n",
    "\n",
    "        #hold=input('hold')\n",
    "    return output_mz_list,output_intensity_list\n"
   ]
  },
  {
   "cell_type": "code",
   "execution_count": 17,
   "id": "56450479",
   "metadata": {
    "scrolled": true
   },
   "outputs": [
    {
     "name": "stdout",
     "output_type": "stream",
     "text": [
      "BIN ID 1\n",
      "i is 0\n",
      "we have this many associated spectra 216\n",
      "here\n"
     ]
    },
    {
     "name": "stderr",
     "output_type": "stream",
     "text": [
      "/Users/parker.bremer/opt/anaconda3/envs/pre_db_pipeline/lib/python3.9/site-packages/seaborn/matrix.py:709: UserWarning: Attempting to set identical left == right == 0 results in singular transformations; automatically expanding.\n",
      "  ax.set_xlim(0, max_dependent_coord * 1.05)\n",
      "/Users/parker.bremer/opt/anaconda3/envs/pre_db_pipeline/lib/python3.9/site-packages/seaborn/matrix.py:717: UserWarning: Attempting to set identical bottom == top == 0 results in singular transformations; automatically expanding.\n",
      "  ax.set_ylim(0, max_dependent_coord * 1.05)\n"
     ]
    },
    {
     "data": {
      "image/png": "[encoded data removed]",
      "text/plain": [
       "<Figure size 216x216 with 4 Axes>"
      ]
     },
     "metadata": {
      "needs_background": "light"
     },
     "output_type": "display_data"
    },
    {
     "name": "stdout",
     "output_type": "stream",
     "text": [
      "[1]\n",
      "cluster counts ordered by population\n"
     ]
    },
    {
     "data": {
      "image/png": "[encoded data removed]",
      "text/plain": [
       "<Figure size 1440x360 with 5 Axes>"
      ]
     },
     "metadata": {
      "needs_background": "light"
     },
     "output_type": "display_data"
    },
    {
     "name": "stdout",
     "output_type": "stream",
     "text": [
      "--------------------------------------------------\n",
      "BIN ID 108\n",
      "i is 1\n",
      "we have this many associated spectra 216\n",
      "here\n"
     ]
    },
    {
     "data": {
      "image/png": "[encoded data removed]",
      "text/plain": [
       "<Figure size 216x216 with 4 Axes>"
      ]
     },
     "metadata": {
      "needs_background": "light"
     },
     "output_type": "display_data"
    },
    {
     "name": "stdout",
     "output_type": "stream",
     "text": [
      "[1]\n",
      "cluster counts ordered by population\n"
     ]
    },
    {
     "data": {
      "image/png": "[encoded data removed]",
      "text/plain": [
       "<Figure size 1440x360 with 5 Axes>"
      ]
     },
     "metadata": {
      "needs_background": "light"
     },
     "output_type": "display_data"
    },
    {
     "name": "stdout",
     "output_type": "stream",
     "text": [
      "--------------------------------------------------\n",
      "BIN ID 172\n",
      "i is 2\n",
      "we have this many associated spectra 216\n",
      "here\n"
     ]
    },
    {
     "data": {
      "image/png": "[encoded data removed]",
      "text/plain": [
       "<Figure size 216x216 with 4 Axes>"
      ]
     },
     "metadata": {
      "needs_background": "light"
     },
     "output_type": "display_data"
    },
    {
     "name": "stdout",
     "output_type": "stream",
     "text": [
      "[10, 6, 5, 9, 1, 7, 55, 43, 25, 50, 39, 2, 13, 45, 21, 3, 40, 42, 18, 8, 17, 47, 14, 12, 34, 11, 51, 26, 29, 57, 20, 58, 44, 22, 23, 53, 28, 30, 41, 54, 33, 32, 46, 15, 19, 52, 37, 16, 31, 56, 48, 24, 38, 36, 4, 35, 49, 27]\n"
     ]
    },
    {
     "ename": "KeyboardInterrupt",
     "evalue": "Interrupted by user",
     "output_type": "error",
     "traceback": [
      "\u001b[0;31m---------------------------------------------------------------------------\u001b[0m",
      "\u001b[0;31mKeyboardInterrupt\u001b[0m                         Traceback (most recent call last)",
      "Input \u001b[0;32mIn [17]\u001b[0m, in \u001b[0;36m<cell line: 7>\u001b[0;34m()\u001b[0m\n\u001b[1;32m     69\u001b[0m cluster_counts_ordered_by_population\u001b[38;5;241m=\u001b[39m[\n\u001b[1;32m     70\u001b[0m     x \u001b[38;5;28;01mfor\u001b[39;00m x,_ \u001b[38;5;129;01min\u001b[39;00m \u001b[38;5;28msorted\u001b[39m(cluster_counts, key\u001b[38;5;241m=\u001b[39m\u001b[38;5;28;01mlambda\u001b[39;00m pair: pair[\u001b[38;5;241m1\u001b[39m],reverse\u001b[38;5;241m=\u001b[39m\u001b[38;5;28;01mTrue\u001b[39;00m)\n\u001b[1;32m     71\u001b[0m ]\n\u001b[1;32m     72\u001b[0m \u001b[38;5;28mprint\u001b[39m(cluster_counts_ordered_by_population)\n\u001b[0;32m---> 73\u001b[0m hold\u001b[38;5;241m=\u001b[39m\u001b[38;5;28;43minput\u001b[39;49m\u001b[43m(\u001b[49m\u001b[38;5;124;43m'\u001b[39;49m\u001b[38;5;124;43mcluster counts ordered by population\u001b[39;49m\u001b[38;5;124;43m'\u001b[39;49m\u001b[43m)\u001b[49m\n\u001b[1;32m     75\u001b[0m \u001b[38;5;66;03m#print(cluster_counts_ordered_by_population)\u001b[39;00m\n\u001b[1;32m     76\u001b[0m \u001b[38;5;66;03m#     hierarchy.dendrogram(\u001b[39;00m\n\u001b[1;32m     77\u001b[0m \u001b[38;5;66;03m#         Z=row_linkage,\u001b[39;00m\n\u001b[1;32m     78\u001b[0m \u001b[38;5;66;03m#         orientation='top'\u001b[39;00m\n\u001b[1;32m     79\u001b[0m \u001b[38;5;66;03m#     )\u001b[39;00m\n\u001b[1;32m     80\u001b[0m \u001b[38;5;66;03m#plt.show()\u001b[39;00m\n\u001b[1;32m     81\u001b[0m fix,ax\u001b[38;5;241m=\u001b[39mplt\u001b[38;5;241m.\u001b[39msubplots(\n\u001b[1;32m     82\u001b[0m     \u001b[38;5;66;03m#nrows=(ending_num-starting_num)+1,\u001b[39;00m\n\u001b[1;32m     83\u001b[0m     nrows\u001b[38;5;241m=\u001b[39m\u001b[38;5;241m1\u001b[39m,\n\u001b[1;32m     84\u001b[0m     ncols\u001b[38;5;241m=\u001b[39mclusters_to_include,\n\u001b[1;32m     85\u001b[0m     figsize\u001b[38;5;241m=\u001b[39m(\u001b[38;5;241m20\u001b[39m,\u001b[38;5;241m5\u001b[39m)\n\u001b[1;32m     86\u001b[0m )\n",
      "File \u001b[0;32m~/opt/anaconda3/envs/pre_db_pipeline/lib/python3.9/site-packages/ipykernel/kernelbase.py:1075\u001b[0m, in \u001b[0;36mKernel.raw_input\u001b[0;34m(self, prompt)\u001b[0m\n\u001b[1;32m   1071\u001b[0m \u001b[38;5;28;01mif\u001b[39;00m \u001b[38;5;129;01mnot\u001b[39;00m \u001b[38;5;28mself\u001b[39m\u001b[38;5;241m.\u001b[39m_allow_stdin:\n\u001b[1;32m   1072\u001b[0m     \u001b[38;5;28;01mraise\u001b[39;00m StdinNotImplementedError(\n\u001b[1;32m   1073\u001b[0m         \u001b[38;5;124m\"\u001b[39m\u001b[38;5;124mraw_input was called, but this frontend does not support input requests.\u001b[39m\u001b[38;5;124m\"\u001b[39m\n\u001b[1;32m   1074\u001b[0m     )\n\u001b[0;32m-> 1075\u001b[0m \u001b[38;5;28;01mreturn\u001b[39;00m \u001b[38;5;28;43mself\u001b[39;49m\u001b[38;5;241;43m.\u001b[39;49m\u001b[43m_input_request\u001b[49m\u001b[43m(\u001b[49m\n\u001b[1;32m   1076\u001b[0m \u001b[43m    \u001b[49m\u001b[38;5;28;43mstr\u001b[39;49m\u001b[43m(\u001b[49m\u001b[43mprompt\u001b[49m\u001b[43m)\u001b[49m\u001b[43m,\u001b[49m\n\u001b[1;32m   1077\u001b[0m \u001b[43m    \u001b[49m\u001b[38;5;28;43mself\u001b[39;49m\u001b[38;5;241;43m.\u001b[39;49m\u001b[43m_parent_ident\u001b[49m\u001b[43m[\u001b[49m\u001b[38;5;124;43m\"\u001b[39;49m\u001b[38;5;124;43mshell\u001b[39;49m\u001b[38;5;124;43m\"\u001b[39;49m\u001b[43m]\u001b[49m\u001b[43m,\u001b[49m\n\u001b[1;32m   1078\u001b[0m \u001b[43m    \u001b[49m\u001b[38;5;28;43mself\u001b[39;49m\u001b[38;5;241;43m.\u001b[39;49m\u001b[43mget_parent\u001b[49m\u001b[43m(\u001b[49m\u001b[38;5;124;43m\"\u001b[39;49m\u001b[38;5;124;43mshell\u001b[39;49m\u001b[38;5;124;43m\"\u001b[39;49m\u001b[43m)\u001b[49m\u001b[43m,\u001b[49m\n\u001b[1;32m   1079\u001b[0m \u001b[43m    \u001b[49m\u001b[43mpassword\u001b[49m\u001b[38;5;241;43m=\u001b[39;49m\u001b[38;5;28;43;01mFalse\u001b[39;49;00m\u001b[43m,\u001b[49m\n\u001b[1;32m   1080\u001b[0m \u001b[43m\u001b[49m\u001b[43m)\u001b[49m\n",
      "File \u001b[0;32m~/opt/anaconda3/envs/pre_db_pipeline/lib/python3.9/site-packages/ipykernel/kernelbase.py:1120\u001b[0m, in \u001b[0;36mKernel._input_request\u001b[0;34m(self, prompt, ident, parent, password)\u001b[0m\n\u001b[1;32m   1117\u001b[0m             \u001b[38;5;28;01mbreak\u001b[39;00m\n\u001b[1;32m   1118\u001b[0m \u001b[38;5;28;01mexcept\u001b[39;00m \u001b[38;5;167;01mKeyboardInterrupt\u001b[39;00m:\n\u001b[1;32m   1119\u001b[0m     \u001b[38;5;66;03m# re-raise KeyboardInterrupt, to truncate traceback\u001b[39;00m\n\u001b[0;32m-> 1120\u001b[0m     \u001b[38;5;28;01mraise\u001b[39;00m \u001b[38;5;167;01mKeyboardInterrupt\u001b[39;00m(\u001b[38;5;124m\"\u001b[39m\u001b[38;5;124mInterrupted by user\u001b[39m\u001b[38;5;124m\"\u001b[39m) \u001b[38;5;28;01mfrom\u001b[39;00m \u001b[38;5;28mNone\u001b[39m\n\u001b[1;32m   1121\u001b[0m \u001b[38;5;28;01mexcept\u001b[39;00m \u001b[38;5;167;01mException\u001b[39;00m:\n\u001b[1;32m   1122\u001b[0m     \u001b[38;5;28mself\u001b[39m\u001b[38;5;241m.\u001b[39mlog\u001b[38;5;241m.\u001b[39mwarning(\u001b[38;5;124m\"\u001b[39m\u001b[38;5;124mInvalid Message:\u001b[39m\u001b[38;5;124m\"\u001b[39m, exc_info\u001b[38;5;241m=\u001b[39m\u001b[38;5;28;01mTrue\u001b[39;00m)\n",
      "\u001b[0;31mKeyboardInterrupt\u001b[0m: Interrupted by user"
     ]
    }
   ],
   "source": [
    "starting_num=0\n",
    "ending_num=30\n",
    "clusters_to_include=5\n",
    "\n",
    "\n",
    "\n",
    "for i,temp_bin in enumerate(bin_ids_pop_desc):\n",
    "\n",
    "    #print(temp_bin)\n",
    "    if i<starting_num or i>ending_num:#i<80 or i>100: #or i<2:\n",
    "        continue\n",
    "    #if i<500 or i>511:\n",
    "    #    continue\n",
    "    print(f'BIN ID {temp_bin}')\n",
    "    print(f'i is {i}')\n",
    "    get_spectrum_sample_query=f'''\n",
    "    select spectrum from runs r\n",
    "    inner join annotations a\n",
    "    on r.run_id=a.run_id\n",
    "    where (run_type=\"Sample\") and (bin_id={temp_bin}) and (spectrum is not null)\n",
    "    '''\n",
    "    \n",
    "    input_spectra_list=execute_query(database_address,get_spectrum_sample_query)\n",
    "\n",
    "    input_spectra_list=[temp_tup[0] for temp_tup in input_spectra_list]\n",
    "\n",
    "    all_spectrum_list=[\n",
    "        parse_one_ms_dial_spectrum(temp_spectrum) for temp_spectrum in input_spectra_list\n",
    "    ]\n",
    "    all_spectrum_list_yuanyue=make_spectra_like_similarity_metric_expects(all_spectrum_list)\n",
    "        \n",
    "    #####Put routine like \"denoising\" here if we desire#####\n",
    "    #yuanyues code denoises alreayd....\n",
    "    \n",
    "    #generate the similarity matrix\n",
    "    similarity_matrix,distance_matrix_flattened=make_distance_matrix(all_spectrum_list_yuanyue)\n",
    "    \n",
    "    #generate the linkage matrix\n",
    "    row_linkage=hierarchy.linkage(\n",
    "        distance_matrix_flattened,method='average'\n",
    "    )\n",
    "    \n",
    "    #print(row_linkage)\n",
    "    #hold=input('hold')\n",
    "    #generate the linkage matrix\n",
    "    column_linkage=row_linkage\n",
    "    \n",
    "    #make the heatmap\n",
    "    sns.clustermap(\n",
    "        similarity_matrix,\n",
    "        row_linkage=row_linkage,\n",
    "        col_linkage=column_linkage,\n",
    "        vmin=0,\n",
    "        vmax=1,\n",
    "        figsize=(3,3),\n",
    "    )\n",
    "    plt.show()\n",
    "    \n",
    "\n",
    "    cluster_identities=hierarchy.fcluster(\n",
    "        Z=row_linkage,\n",
    "        t=0.2,\n",
    "        criterion='distance',\n",
    "    )\n",
    "    #print(cluster_identities)\n",
    "    \n",
    "    cluster_counts=Counter(cluster_identities)\n",
    "    cluster_counts=[(key,cluster_counts[key]) for key in cluster_counts]\n",
    "    cluster_counts_ordered_by_population=[\n",
    "        x for x,_ in sorted(cluster_counts, key=lambda pair: pair[1],reverse=True)\n",
    "    ]\n",
    "    print(cluster_counts_ordered_by_population)\n",
    "    hold=input('cluster counts ordered by population')\n",
    "    \n",
    "    #print(cluster_counts_ordered_by_population)\n",
    "    #     hierarchy.dendrogram(\n",
    "    #         Z=row_linkage,\n",
    "    #         orientation='top'\n",
    "    #     )\n",
    "    #plt.show()\n",
    "    fix,ax=plt.subplots(\n",
    "        #nrows=(ending_num-starting_num)+1,\n",
    "        nrows=1,\n",
    "        ncols=clusters_to_include,\n",
    "        figsize=(20,5)\n",
    "    )\n",
    "    for j,temp_cluster_identity in enumerate(cluster_counts_ordered_by_population):\n",
    "        \n",
    "        if j >=5:\n",
    "            continue\n",
    "        \n",
    "        temp_spectra_for_consensus=list()\n",
    "        for k,temp_assignment in enumerate(cluster_identities):\n",
    "            if temp_assignment==temp_cluster_identity:\n",
    "                temp_spectra_for_consensus.append(\n",
    "                    all_spectrum_list[k]\n",
    "                )\n",
    "        \n",
    "        temp_spectra_for_consensus_yuanyue=make_spectra_like_similarity_metric_expects(temp_spectra_for_consensus)\n",
    "        for k in range(len(temp_spectra_for_consensus)):\n",
    "            temp_spectra_for_consensus_yuanyue[k]=spectral_entropy.tools.clean_spectrum(\n",
    "                temp_spectra_for_consensus_yuanyue[k],\n",
    "                noise_removal=0.05,\n",
    "                ms2_da=0.03\n",
    "            )\n",
    "        temp_spectra_for_consensus=make_spectra_like_head_to_tails_expects(\n",
    "            temp_spectra_for_consensus_yuanyue\n",
    "        )\n",
    "        #print(len(temp_spectra_for_consensus))\n",
    "        #print(i)\n",
    "        #print(temp_spectra_for_consensus)\n",
    "        #print('*********************************************')\n",
    "        plot_some_head_to_tails(temp_spectra_for_consensus,ax[j])\n",
    "        temp_consensus_spectrum=generate_consensus_spectrum(\n",
    "            temp_spectra_for_consensus,\n",
    "            0.015,\n",
    "            0.3,\n",
    "            3\n",
    "        )\n",
    "        #print(temp_consensus_spectrum)\n",
    "        #fig_2,ax_2=plt.subplots(\n",
    "        #    #nrows=(ending_num-starting_num)+1,\n",
    "        #    nrows=1,\n",
    "        # #   ncols=1,\n",
    "        #    figsize=(5,5)\n",
    "        #)\n",
    "        plot_some_head_to_tails([temp_consensus_spectrum],ax[j],is_consensus=True)\n",
    "        \n",
    "    plt.show()\n",
    "    print('--------------------------------------------------')"
   ]
  },
  {
   "cell_type": "code",
   "execution_count": null,
   "id": "cdf36306",
   "metadata": {},
   "outputs": [],
   "source": []
  },
  {
   "cell_type": "code",
   "execution_count": null,
   "id": "ccadd9e2",
   "metadata": {},
   "outputs": [],
   "source": []
  },
  {
   "cell_type": "code",
   "execution_count": null,
   "id": "8a4760b2",
   "metadata": {},
   "outputs": [],
   "source": []
  }
 ],
 "metadata": {
  "kernelspec": {
   "display_name": "Python 3 (ipykernel)",
   "language": "python",
   "name": "python3"
  },
  "language_info": {
   "codemirror_mode": {
    "name": "ipython",
    "version": 3
   },
   "file_extension": ".py",
   "mimetype": "text/x-python",
   "name": "python",
   "nbconvert_exporter": "python",
   "pygments_lexer": "ipython3",
   "version": "3.9.12"
  }
 },
 "nbformat": 4,
 "nbformat_minor": 5
}
