{
 "cells": [
  {
   "cell_type": "code",
   "execution_count": null,
   "id": "0e7d812a",
   "metadata": {},
   "outputs": [],
   "source": [
    "#the purpose of this notebook is to find compounds that are found in most (all) studies and maybe both pos/neg"
   ]
  },
  {
   "cell_type": "code",
   "execution_count": 1,
   "id": "d3edc8a6",
   "metadata": {},
   "outputs": [],
   "source": [
    "import pandas as pd"
   ]
  },
  {
   "cell_type": "code",
   "execution_count": 2,
   "id": "39d030d6",
   "metadata": {},
   "outputs": [],
   "source": [
    "positive_dataset_address='/Users/parker.bremer/coding_projects/bucketbase/data/total_features_lists/HILIC_Features_Database_-_May_2022_-_Positive_Mode_Features.tsv'"
   ]
  },
  {
   "cell_type": "code",
   "execution_count": 19,
   "id": "55de5d6b",
   "metadata": {},
   "outputs": [],
   "source": [
    "negative_dataset_address='/Users/parker.bremer/coding_projects/bucketbase/data/total_features_lists/HILIC_Features_Database_-_May_2022_-_Negative_Mode_Features.tsv'"
   ]
  },
  {
   "cell_type": "code",
   "execution_count": null,
   "id": "3b0bb462",
   "metadata": {},
   "outputs": [],
   "source": []
  },
  {
   "cell_type": "code",
   "execution_count": 20,
   "id": "ee1b498c",
   "metadata": {},
   "outputs": [],
   "source": [
    "positive_mode_panda=pd.read_csv(positive_dataset_address,sep='\\t')"
   ]
  },
  {
   "cell_type": "code",
   "execution_count": 21,
   "id": "2661b448",
   "metadata": {},
   "outputs": [],
   "source": [
    "negative_mode_panda=pd.read_csv(negative_dataset_address,sep='\\t')"
   ]
  },
  {
   "cell_type": "code",
   "execution_count": 6,
   "id": "f00111b8",
   "metadata": {},
   "outputs": [
    {
     "data": {
      "text/html": [
       "<div>\n",
       "<style scoped>\n",
       "    .dataframe tbody tr th:only-of-type {\n",
       "        vertical-align: middle;\n",
       "    }\n",
       "\n",
       "    .dataframe tbody tr th {\n",
       "        vertical-align: top;\n",
       "    }\n",
       "\n",
       "    .dataframe thead th {\n",
       "        text-align: right;\n",
       "    }\n",
       "</style>\n",
       "<table border=\"1\" class=\"dataframe\">\n",
       "  <thead>\n",
       "    <tr style=\"text-align: right;\">\n",
       "      <th></th>\n",
       "      <th>Study</th>\n",
       "      <th>Matrix</th>\n",
       "      <th>Mode</th>\n",
       "      <th>Identifier</th>\n",
       "      <th>Alignment ID</th>\n",
       "      <th>Annotation</th>\n",
       "      <th>INCHIKEY</th>\n",
       "      <th>RT</th>\n",
       "      <th>m/z</th>\n",
       "    </tr>\n",
       "  </thead>\n",
       "  <tbody>\n",
       "    <tr>\n",
       "      <th>0</th>\n",
       "      <td>ALCH001</td>\n",
       "      <td>Plasma</td>\n",
       "      <td>HILIC_Pos</td>\n",
       "      <td>7.24_132.1</td>\n",
       "      <td>1198</td>\n",
       "      <td>Isoleucine</td>\n",
       "      <td>AGPKZVBTJJNPAG-WHFBIAKZSA-N</td>\n",
       "      <td>7.235</td>\n",
       "      <td>132.10181</td>\n",
       "    </tr>\n",
       "    <tr>\n",
       "      <th>1</th>\n",
       "      <td>ALCH001</td>\n",
       "      <td>Plasma</td>\n",
       "      <td>HILIC_Pos</td>\n",
       "      <td>9.62_133.1</td>\n",
       "      <td>1233</td>\n",
       "      <td>Ornithine</td>\n",
       "      <td>AHLPHDHHMVZTML-BYPYZUCNSA-N</td>\n",
       "      <td>9.616</td>\n",
       "      <td>133.09711</td>\n",
       "    </tr>\n",
       "    <tr>\n",
       "      <th>2</th>\n",
       "      <td>ALCH001</td>\n",
       "      <td>Plasma</td>\n",
       "      <td>HILIC_Pos</td>\n",
       "      <td>1.51_138.05</td>\n",
       "      <td>1321</td>\n",
       "      <td>4-aminobenzoic acid</td>\n",
       "      <td>ALYNCZNDIQEVRV-UHFFFAOYSA-N</td>\n",
       "      <td>1.508</td>\n",
       "      <td>138.05489</td>\n",
       "    </tr>\n",
       "    <tr>\n",
       "      <th>3</th>\n",
       "      <td>ALCH001</td>\n",
       "      <td>Plasma</td>\n",
       "      <td>HILIC_Pos</td>\n",
       "      <td>1.16_288.25</td>\n",
       "      <td>4426</td>\n",
       "      <td>Lauric acid diethanolamide</td>\n",
       "      <td>AOMUHOFOVNGZAN-UHFFFAOYSA-N</td>\n",
       "      <td>1.16</td>\n",
       "      <td>288.25284</td>\n",
       "    </tr>\n",
       "    <tr>\n",
       "      <th>4</th>\n",
       "      <td>ALCH001</td>\n",
       "      <td>Plasma</td>\n",
       "      <td>HILIC_Pos</td>\n",
       "      <td>3.22_260.16</td>\n",
       "      <td>3988</td>\n",
       "      <td>Propranolol</td>\n",
       "      <td>AQHHHDLHHXJYJD-UHFFFAOYSA-N</td>\n",
       "      <td>3.216</td>\n",
       "      <td>260.16403</td>\n",
       "    </tr>\n",
       "    <tr>\n",
       "      <th>...</th>\n",
       "      <td>...</td>\n",
       "      <td>...</td>\n",
       "      <td>...</td>\n",
       "      <td>...</td>\n",
       "      <td>...</td>\n",
       "      <td>...</td>\n",
       "      <td>...</td>\n",
       "      <td>...</td>\n",
       "      <td>...</td>\n",
       "    </tr>\n",
       "    <tr>\n",
       "      <th>10976</th>\n",
       "      <td>ZOQU001</td>\n",
       "      <td>Human plasma</td>\n",
       "      <td>HILIC_Pos</td>\n",
       "      <td>7.51_138.05</td>\n",
       "      <td>818</td>\n",
       "      <td>TRIGONELLINE</td>\n",
       "      <td>WWNNZCOKKKDOPX-UHFFFAOYSA-N</td>\n",
       "      <td>7.51</td>\n",
       "      <td>138.05469</td>\n",
       "    </tr>\n",
       "    <tr>\n",
       "      <th>10977</th>\n",
       "      <td>ZOQU001</td>\n",
       "      <td>Human plasma</td>\n",
       "      <td>HILIC_Pos</td>\n",
       "      <td>6.94_205.1</td>\n",
       "      <td>1758</td>\n",
       "      <td>Tryptophan</td>\n",
       "      <td>QIVBCDIJIAJPQS-VIFPVBQESA-N</td>\n",
       "      <td>6.943</td>\n",
       "      <td>205.09697</td>\n",
       "    </tr>\n",
       "    <tr>\n",
       "      <th>10978</th>\n",
       "      <td>ZOQU001</td>\n",
       "      <td>Human plasma</td>\n",
       "      <td>HILIC_Pos</td>\n",
       "      <td>7.83_182.08</td>\n",
       "      <td>1482</td>\n",
       "      <td>Tyrosine</td>\n",
       "      <td>OUYCCCASQSFEME-QMMMGPOBSA-N</td>\n",
       "      <td>7.83</td>\n",
       "      <td>182.08099</td>\n",
       "    </tr>\n",
       "    <tr>\n",
       "      <th>10979</th>\n",
       "      <td>ZOQU001</td>\n",
       "      <td>Human plasma</td>\n",
       "      <td>HILIC_Pos</td>\n",
       "      <td>2.86_61.04</td>\n",
       "      <td>9</td>\n",
       "      <td>Urea</td>\n",
       "      <td>XSQUKJJJFZCRTK-UHFFFAOYSA-N</td>\n",
       "      <td>2.855</td>\n",
       "      <td>61.03971</td>\n",
       "    </tr>\n",
       "    <tr>\n",
       "      <th>10980</th>\n",
       "      <td>ZOQU001</td>\n",
       "      <td>Human plasma</td>\n",
       "      <td>HILIC_Pos</td>\n",
       "      <td>7.99_189.12</td>\n",
       "      <td>1602</td>\n",
       "      <td>Val-Ala</td>\n",
       "      <td>HSRXSKHRSXRCFC-WDSKDSINSA-N</td>\n",
       "      <td>7.985</td>\n",
       "      <td>189.12317</td>\n",
       "    </tr>\n",
       "  </tbody>\n",
       "</table>\n",
       "<p>10981 rows × 9 columns</p>\n",
       "</div>"
      ],
      "text/plain": [
       "         Study        Matrix       Mode   Identifier Alignment ID  \\\n",
       "0      ALCH001        Plasma  HILIC_Pos   7.24_132.1         1198   \n",
       "1      ALCH001        Plasma  HILIC_Pos   9.62_133.1         1233   \n",
       "2      ALCH001        Plasma  HILIC_Pos  1.51_138.05         1321   \n",
       "3      ALCH001        Plasma  HILIC_Pos  1.16_288.25         4426   \n",
       "4      ALCH001        Plasma  HILIC_Pos  3.22_260.16         3988   \n",
       "...        ...           ...        ...          ...          ...   \n",
       "10976  ZOQU001  Human plasma  HILIC_Pos  7.51_138.05          818   \n",
       "10977  ZOQU001  Human plasma  HILIC_Pos   6.94_205.1         1758   \n",
       "10978  ZOQU001  Human plasma  HILIC_Pos  7.83_182.08         1482   \n",
       "10979  ZOQU001  Human plasma  HILIC_Pos   2.86_61.04            9   \n",
       "10980  ZOQU001  Human plasma  HILIC_Pos  7.99_189.12         1602   \n",
       "\n",
       "                       Annotation                     INCHIKEY     RT  \\\n",
       "0                      Isoleucine  AGPKZVBTJJNPAG-WHFBIAKZSA-N  7.235   \n",
       "1                       Ornithine  AHLPHDHHMVZTML-BYPYZUCNSA-N  9.616   \n",
       "2             4-aminobenzoic acid  ALYNCZNDIQEVRV-UHFFFAOYSA-N  1.508   \n",
       "3      Lauric acid diethanolamide  AOMUHOFOVNGZAN-UHFFFAOYSA-N   1.16   \n",
       "4                     Propranolol  AQHHHDLHHXJYJD-UHFFFAOYSA-N  3.216   \n",
       "...                           ...                          ...    ...   \n",
       "10976                TRIGONELLINE  WWNNZCOKKKDOPX-UHFFFAOYSA-N   7.51   \n",
       "10977                  Tryptophan  QIVBCDIJIAJPQS-VIFPVBQESA-N  6.943   \n",
       "10978                    Tyrosine  OUYCCCASQSFEME-QMMMGPOBSA-N   7.83   \n",
       "10979                        Urea  XSQUKJJJFZCRTK-UHFFFAOYSA-N  2.855   \n",
       "10980                     Val-Ala  HSRXSKHRSXRCFC-WDSKDSINSA-N  7.985   \n",
       "\n",
       "             m/z  \n",
       "0      132.10181  \n",
       "1      133.09711  \n",
       "2      138.05489  \n",
       "3      288.25284  \n",
       "4      260.16403  \n",
       "...          ...  \n",
       "10976  138.05469  \n",
       "10977  205.09697  \n",
       "10978  182.08099  \n",
       "10979   61.03971  \n",
       "10980  189.12317  \n",
       "\n",
       "[10981 rows x 9 columns]"
      ]
     },
     "execution_count": 6,
     "metadata": {},
     "output_type": "execute_result"
    }
   ],
   "source": [
    "positive_mode_panda"
   ]
  },
  {
   "cell_type": "code",
   "execution_count": 7,
   "id": "136b8a37",
   "metadata": {},
   "outputs": [
    {
     "data": {
      "text/plain": [
       "39"
      ]
     },
     "execution_count": 7,
     "metadata": {},
     "output_type": "execute_result"
    }
   ],
   "source": [
    "#there are 39 positive mode studies in this dataset\n",
    "len(positive_mode_panda.Study.unique())"
   ]
  },
  {
   "cell_type": "code",
   "execution_count": 8,
   "id": "bdb5839a",
   "metadata": {},
   "outputs": [
    {
     "data": {
      "text/plain": [
       "Internal Standard                118\n",
       "iSTD                              85\n",
       "HNDVDQJCIGZPNO-YFKPBYRVSA-N       39\n",
       "OEYIOHPDSNJKLS-UHFFFAOYSA-N       38\n",
       "KDXKERNSBIXSRK-YFKPBYRVSA-N       38\n",
       "                                ... \n",
       "KSPQDMRTZZYQLM-UHFFFAOYSA-N        1\n",
       "LCAINUZZHIZKKS-UHFFFAOYSA-N        1\n",
       "MBNGWHIJMBWFHU-UHFFFAOYSA-N        1\n",
       "LZJXOHRONRTVRW-JTQLQIEISA-N        1\n",
       "JACRWUWPXAESPB-UHFFFAOYSA-N        1\n",
       "Name: INCHIKEY, Length: 1756, dtype: int64"
      ]
     },
     "execution_count": 8,
     "metadata": {},
     "output_type": "execute_result"
    }
   ],
   "source": [
    "positive_mode_panda.INCHIKEY.value_counts()\n"
   ]
  },
  {
   "cell_type": "code",
   "execution_count": 10,
   "id": "a162454b",
   "metadata": {},
   "outputs": [],
   "source": []
  },
  {
   "cell_type": "code",
   "execution_count": 13,
   "id": "af7f3f13",
   "metadata": {},
   "outputs": [
    {
     "data": {
      "text/plain": [
       "1_Tryptophan-d5              11\n",
       "1_Phenylalanine-d8           11\n",
       "1_Acetylcarnitine_d3         10\n",
       "1_D9-Choline iSTD            10\n",
       "1_TMAO_d9                    10\n",
       "                             ..\n",
       "D3-DL-Glutamic acid iSTD      1\n",
       "D3-L-Carnitine iSTD           1\n",
       "D7-Arginine iSTD              1\n",
       "D8-Methionine iSTD            1\n",
       "1_D3-1-Methylnicotinamide     1\n",
       "Name: Annotation, Length: 62, dtype: int64"
      ]
     },
     "execution_count": 13,
     "metadata": {},
     "output_type": "execute_result"
    }
   ],
   "source": [
    "positive_mode_panda.loc[\n",
    "    positive_mode_panda.INCHIKEY.isin(['Internal Standard','iSTD'])\n",
    "].Annotation.value_counts()"
   ]
  },
  {
   "cell_type": "code",
   "execution_count": 17,
   "id": "386772d5",
   "metadata": {},
   "outputs": [],
   "source": [
    "all_istd_names_positive=[element for element in positive_mode_panda.loc[\n",
    "    positive_mode_panda.INCHIKEY.isin(['Internal Standard','iSTD'])\n",
    "].Annotation.unique()]"
   ]
  },
  {
   "cell_type": "code",
   "execution_count": 22,
   "id": "cf7bc8bf",
   "metadata": {},
   "outputs": [],
   "source": [
    "all_istd_names_negative=[element for element in negative_mode_panda.loc[\n",
    "    negative_mode_panda.INCHIKEY.isin(['Internal Standard','iSTD'])\n",
    "].Annotation.unique()]"
   ]
  },
  {
   "cell_type": "code",
   "execution_count": 23,
   "id": "0911bda8",
   "metadata": {},
   "outputs": [],
   "source": [
    "all_istd_names_pos_set=set(all_istd_names_positive)\n",
    "all_istd_names_neg_set=set(all_istd_names_negative)"
   ]
  },
  {
   "cell_type": "code",
   "execution_count": 24,
   "id": "5466e5dc",
   "metadata": {},
   "outputs": [
    {
     "data": {
      "text/plain": [
       "{'1-Methylnicotinamide_d3',\n",
       " '1_1_Methylnicotinamide_d3',\n",
       " '1_Acetylcarnitine_d3',\n",
       " '1_Carnitine_d3',\n",
       " '1_Choline_d9',\n",
       " '1_Creatinine_d3',\n",
       " '1_D3-1-Methylnicotinamide',\n",
       " '1_D3-1-Methylnicotinamide iSTD',\n",
       " '1_D3-AcetylCarnitine',\n",
       " '1_D3-Carnitine iSTD',\n",
       " '1_D3-Creatine iSTD',\n",
       " '1_D5-Glutamine iSTD',\n",
       " '1_D8-Methionine iSTD',\n",
       " '1_D9-Choline iSTD',\n",
       " '1_D9-TMAO iSTD',\n",
       " '1_Glutamic Acid_d3',\n",
       " '1_HippuricAcid-d5',\n",
       " '1_Lysine-d8',\n",
       " '1_Methionine_d8',\n",
       " '1_Phenylalanine-d8',\n",
       " '1_Serine-d3',\n",
       " '1_Serine-d8',\n",
       " '1_TMAO_d9',\n",
       " '1_Tryptophan-d5',\n",
       " '1_Valine_d8',\n",
       " 'Acetylcarnitine_d3',\n",
       " 'Carnitine-d3',\n",
       " 'Carnitine_d3',\n",
       " 'D3-1-Methylnicotinamide iSTD',\n",
       " 'D3-1-Methylnicotinamide iSTD; [M+H]+; HCD (NCE 20-30-40%)',\n",
       " 'D3-AC(2:0) iSTD',\n",
       " 'D3-AC(2:0) iSTD; [M+H]+; HCD (NCE 20-30-40%)',\n",
       " 'D3-Glutamic acid iSTD',\n",
       " 'D3-L-Carnitine iSTD',\n",
       " 'D5-Glutamine iSTD; [M+H]+; HCD (NCE 20-30-40%)',\n",
       " 'D9-Choline iSTD',\n",
       " 'D9-Choline iSTD; [M+H]+; HCD (NCE 20-30-40%)',\n",
       " 'D9-TMAO iSTD',\n",
       " 'D9-TMAO iSTD; [M+H]+; HCD (NCE 20-30-40%)',\n",
       " 'HippuricAcid-d5',\n",
       " 'Lysine-d8',\n",
       " 'Methionine-d8',\n",
       " 'Phenylalanine-d8',\n",
       " 'Serine-d8',\n",
       " 'TMAOd9',\n",
       " 'Tryptophan-d5',\n",
       " 'Valine-d8'}"
      ]
     },
     "execution_count": 24,
     "metadata": {},
     "output_type": "execute_result"
    }
   ],
   "source": [
    "all_istd_names_pos_set.difference(all_istd_names_neg_set)"
   ]
  },
  {
   "cell_type": "code",
   "execution_count": 25,
   "id": "284296fd",
   "metadata": {},
   "outputs": [
    {
     "data": {
      "text/plain": [
       "{'1_D5-L-Glutamine',\n",
       " '1_D5-L-Glutamine iSTD',\n",
       " '1_Glutamine_d6',\n",
       " '1_Hippuric Acid d5',\n",
       " '1_HippuricAcid_d5',\n",
       " '1_Phenylalanine_d8',\n",
       " '1_Serine_d8',\n",
       " '1_Tryptophan_d5',\n",
       " '1_d5_Hippuric Acid',\n",
       " 'Arginine d7',\n",
       " 'Creatinine-d3',\n",
       " 'Glutamic Acid d3',\n",
       " 'Glutamine_d5',\n",
       " 'Hippuric Acid d5',\n",
       " 'Phenylalanine d8',\n",
       " 'Serine d8',\n",
       " 'Serine_d8',\n",
       " 'Tryptophan d5'}"
      ]
     },
     "execution_count": 25,
     "metadata": {},
     "output_type": "execute_result"
    }
   ],
   "source": [
    "all_istd_names_neg_set.difference(all_istd_names_pos_set)"
   ]
  },
  {
   "cell_type": "code",
   "execution_count": 26,
   "id": "c911be7b",
   "metadata": {},
   "outputs": [],
   "source": [
    "ms_dial_names_to_annotation_names_dict={\n",
    "    '1_Methionine_d8':['Methionine-d8','1_Methionine_d8','1_D8-Methionine iSTD','D8-Methionine iSTD'],\n",
    "    '1_1-Methylnicotinamide_d3':['1_1-Methylnicotinamide_d3','D3-1-Methylnicotinamide iSTD; [M+H]+; HCD (NCE 20-30-40%)','1_1_Methylnicotinamide_d3','1_D3-1-Methylnicotinamide iSTD','D3-1-Methylnicotinamide iSTD','1_D3-1-Methylnicotinamide'],\n",
    "    '1_Creatinine_d5':['1_Creatinine_d3','1_D3-Creatine iSTD','D3-Creatinine iSTD','Creatinine-d3'],\n",
    "    '1_Carnitine_d3':['Carnitine-d3','Carnitine_d3','1_Carnitine_d3','D3-L-Carnitine iSTD','1_D3-Carnitine iSTD'],\n",
    "    '1_Acetylecarnitine_d3':['D3-AC(2:0) iSTD; [M+H]+; HCD (NCE 20-30-40%)','1_Acetylcarnitine_d3','1_D3-AcetylCarnitine','Acetylcarnitine_d3','D3-AC(2:0) iSTD'],\n",
    "    '1_TMAO_d9':['D9-TMAO iSTD; [M+H]+; HCD (NCE 20-30-40%)','D9-TMAO iSTD','1_TMAO_d9','1_D9-TMAO iSTD','TMAOd9'],\n",
    "    '1_Choline_d9':['D9-Choline iSTD; [M+H]+; HCD (NCE 20-30-40%)','1_Choline_d9','D9-Choline iSTD','1_D9-Choline iSTD'],\n",
    "    '1_Glutamine_d5':['D5-Glutamine iSTD; [M+H]+; HCD (NCE 20-30-40%)','1_Glutamine_d5','1_D5-Glutamine iSTD','1_D5-L-Glutamine','1_D5-L-Glutamine iSTD','1_Glutamine_d6'],\n",
    "    '1_Glutamic Acid_d3':['D3-Glutamic acid iSTD','D3-DL-Glutamic acid iSTD','1_Glutamic Acid_d3','1_D3-Glutamic acid iSTD','Glutamic Acid d3','Glutamine_d5'],\n",
    "    '1_Arginine_d7':['1_Arginine_d7','D7-Arginine iSTD','Arginine_d7','Arginine d7'],\n",
    "    '1_Alanine_d3':['1_Alanine_d3','1_D3-Alanine iSTD','D3-DL-Alanine iSTD'],\n",
    "    '1_Valine_d8':['Valine-d8','1_Valine_d8'],\n",
    "    '1_Tryptophan_d5':['Tryptophan-d5','1_Tryptophan-d5','Tryptophan d5','1_Tryptophan_d5'],\n",
    "    '1_Serine_d3':['1_Serine_d3','Serine-d8','1_Serine-d8','1_Serine-d3','Serine d8','Serine_d8','1_Serine_d8'],\n",
    "    '1_Lysine_d8':['Lysine-d8','1_Lysine-d8'],\n",
    "    '1_Phenylalanine_d8':['Phenylalanine-d8','1_Phenylalanine-d8','Phenylalanine d8','1_Phenylalanine_d8'],\n",
    "    '1_HippuricAcid_d5':['HippuricAcid-d5','1_HippuricAcid-d5','1_Hippuric Acid d5','1_HippuricAcid_d5','Hippuric Acid d5','1_d5_Hippuric Acid'],\n",
    "    '1_CUDA':['CUDA','1_CUDA','CUDA iSTD','1_CUDA iSTD']\n",
    "}"
   ]
  },
  {
   "cell_type": "code",
   "execution_count": 30,
   "id": "ef515a5b",
   "metadata": {},
   "outputs": [],
   "source": [
    "positive_value_counts=positive_mode_panda.loc[\n",
    "    positive_mode_panda.INCHIKEY.isin(['Internal Standard','iSTD'])\n",
    "].Annotation.value_counts()"
   ]
  },
  {
   "cell_type": "code",
   "execution_count": 32,
   "id": "8bd40072",
   "metadata": {},
   "outputs": [
    {
     "name": "stdout",
     "output_type": "stream",
     "text": [
      "{'1_Methionine_d8': 10, '1_1-Methylnicotinamide_d3': 15, '1_Creatinine_d5': 5, '1_Carnitine_d3': 14, '1_Acetylecarnitine_d3': 14, '1_TMAO_d9': 14, '1_Choline_d9': 14, '1_Glutamine_d5': 13, '1_Glutamic Acid_d3': 9, '1_Arginine_d7': 11, '1_Alanine_d3': 5, '1_Valine_d8': 4, '1_Tryptophan_d5': 13, '1_Serine_d3': 11, '1_Lysine_d8': 11, '1_Phenylalanine_d8': 13, '1_HippuricAcid_d5': 11, '1_CUDA': 14}\n"
     ]
    }
   ],
   "source": [
    "positive_count_dict={}\n",
    "for temp_key in ms_dial_names_to_annotation_names_dict.keys():\n",
    "    positive_count_dict[temp_key]=0\n",
    "    for temp_value in ms_dial_names_to_annotation_names_dict[temp_key]:\n",
    "        try:\n",
    "            positive_count_dict[temp_key]+=positive_value_counts[temp_value]\n",
    "        except KeyError:\n",
    "            continue\n",
    "print(positive_count_dict)"
   ]
  },
  {
   "cell_type": "code",
   "execution_count": 33,
   "id": "be125502",
   "metadata": {},
   "outputs": [
    {
     "data": {
      "text/plain": [
       "203"
      ]
     },
     "execution_count": 33,
     "metadata": {},
     "output_type": "execute_result"
    }
   ],
   "source": [
    "positive_value_counts.sum()"
   ]
  },
  {
   "cell_type": "code",
   "execution_count": 34,
   "id": "03d71310",
   "metadata": {},
   "outputs": [
    {
     "data": {
      "text/plain": [
       "201"
      ]
     },
     "execution_count": 34,
     "metadata": {},
     "output_type": "execute_result"
    }
   ],
   "source": [
    "sum([positive_count_dict[temp_key] for temp_key in positive_count_dict.keys()])"
   ]
  },
  {
   "cell_type": "code",
   "execution_count": null,
   "id": "7db90a7c",
   "metadata": {},
   "outputs": [],
   "source": []
  },
  {
   "cell_type": "code",
   "execution_count": 35,
   "id": "c0ab8091",
   "metadata": {},
   "outputs": [],
   "source": []
  },
  {
   "cell_type": "code",
   "execution_count": 38,
   "id": "f5249abf",
   "metadata": {},
   "outputs": [
    {
     "name": "stdout",
     "output_type": "stream",
     "text": [
      "{'1_Methionine_d8': 1, '1_1-Methylnicotinamide_d3': 0, '1_Creatinine_d5': 2, '1_Carnitine_d3': 0, '1_Acetylecarnitine_d3': 0, '1_TMAO_d9': 0, '1_Choline_d9': 0, '1_Glutamine_d5': 8, '1_Glutamic Acid_d3': 7, '1_Arginine_d7': 6, '1_Alanine_d3': 2, '1_Valine_d8': 0, '1_Tryptophan_d5': 4, '1_Serine_d3': 6, '1_Lysine_d8': 0, '1_Phenylalanine_d8': 3, '1_HippuricAcid_d5': 10, '1_CUDA': 11}\n"
     ]
    }
   ],
   "source": [
    "negative_value_counts=negative_mode_panda.loc[\n",
    "    negative_mode_panda.INCHIKEY.isin(['Internal Standard','iSTD'])\n",
    "].Annotation.value_counts()\n",
    "\n",
    "negative_count_dict={}\n",
    "for temp_key in ms_dial_names_to_annotation_names_dict.keys():\n",
    "    negative_count_dict[temp_key]=0\n",
    "    for temp_value in ms_dial_names_to_annotation_names_dict[temp_key]:\n",
    "        try:\n",
    "            negative_count_dict[temp_key]+=negative_value_counts[temp_value]\n",
    "        except KeyError:\n",
    "            continue\n",
    "print(negative_count_dict)"
   ]
  },
  {
   "cell_type": "code",
   "execution_count": 39,
   "id": "91f7c1f6",
   "metadata": {},
   "outputs": [
    {
     "data": {
      "text/plain": [
       "62"
      ]
     },
     "execution_count": 39,
     "metadata": {},
     "output_type": "execute_result"
    }
   ],
   "source": [
    "negative_value_counts.sum()"
   ]
  },
  {
   "cell_type": "code",
   "execution_count": 40,
   "id": "9132c4ad",
   "metadata": {},
   "outputs": [],
   "source": [
    "negative_value_counts=negative_mode_panda.loc[\n",
    "    negative_mode_panda.INCHIKEY.isin(['Internal Standard','iSTD'])\n",
    "].Annotation.value_counts()"
   ]
  },
  {
   "cell_type": "code",
   "execution_count": null,
   "id": "5c6ead22",
   "metadata": {},
   "outputs": [],
   "source": [
    "#so the findings ffrom this are that just using the internal standard directly isng going\n",
    "#to cut the salami\n",
    "#instead, we need to 1) use the non deuterated analog of each internal standard to get RT for the training\n",
    "#phase (and then during the production just find ISTD)\n",
    "#2) find compounds that arent internal standards that we can use as pseudo internal standards\n",
    "#ideally, these compounds would be reliably annotated in the indnividual compound filesq"
   ]
  },
  {
   "cell_type": "code",
   "execution_count": null,
   "id": "ed6a1ede",
   "metadata": {},
   "outputs": [],
   "source": []
  },
  {
   "cell_type": "code",
   "execution_count": null,
   "id": "8e945b88",
   "metadata": {},
   "outputs": [],
   "source": []
  },
  {
   "cell_type": "code",
   "execution_count": null,
   "id": "1e639d25",
   "metadata": {},
   "outputs": [],
   "source": []
  },
  {
   "cell_type": "code",
   "execution_count": null,
   "id": "e038c330",
   "metadata": {},
   "outputs": [],
   "source": [
    "#these files are the output. two sets of very common inchikeys as well as\n",
    "#a translation dict for the internal standards"
   ]
  },
  {
   "cell_type": "code",
   "execution_count": 47,
   "id": "ef88de3f",
   "metadata": {},
   "outputs": [
    {
     "data": {
      "text/plain": [
       "['Internal Standard',\n",
       " 'iSTD',\n",
       " 'HNDVDQJCIGZPNO-YFKPBYRVSA-N',\n",
       " 'OEYIOHPDSNJKLS-UHFFFAOYSA-N',\n",
       " 'KDXKERNSBIXSRK-YFKPBYRVSA-N',\n",
       " 'FDGQSTZJBFJUBT-UHFFFAOYSA-N',\n",
       " 'NWGZOALPWZDXNG-UHFFFAOYSA-N',\n",
       " 'OPTASPLRGRRNAP-UHFFFAOYSA-N',\n",
       " 'ODKSFYDXXFIFQN-BYPYZUCNSA-N',\n",
       " 'FFEARJCKVFRZRR-BYPYZUCNSA-N',\n",
       " 'RHGKLRLOHDJJDR-BYPYZUCNSA-N',\n",
       " 'DTERQYGMUDWYAZ-ZETCQYMHSA-N',\n",
       " 'QEFRNWWLZKMPFJ-YGVKFDHGSA-N',\n",
       " 'GSEJCLTVZPLZKY-UHFFFAOYSA-N',\n",
       " 'DDRJAANPRJIHGJ-UHFFFAOYSA-N',\n",
       " 'GHOKWGTUZJEAQD-ZETCQYMHSA-N',\n",
       " 'NTYJJOPFIAHURM-UHFFFAOYSA-N',\n",
       " 'WUUGFSXJNOTRMR-IOSLPCCCSA-N',\n",
       " 'AGPKZVBTJJNPAG-WHFBIAKZSA-N',\n",
       " 'UGQMRVRMYYASKQ-KQYNXXCUSA-N',\n",
       " 'COLNVLDHVKWLRT-QMMMGPOBSA-N',\n",
       " 'OUYCCCASQSFEME-QMMMGPOBSA-N',\n",
       " 'MTCFGRXMJLQNBG-REOHCLBHSA-N',\n",
       " 'DFPAKSUCGFBDDF-UHFFFAOYSA-N',\n",
       " 'ZDXPYRJPNDTMRX-VKHMYHEASA-N',\n",
       " 'JZRWCGZRTZMZEH-UHFFFAOYSA-N',\n",
       " 'GFFGJBXGBJISGV-UHFFFAOYSA-N',\n",
       " 'WHUUTDBJXJRKMK-VKHMYHEASA-N',\n",
       " 'KWIUHFFTVRNATP-UHFFFAOYSA-N',\n",
       " 'QIVBCDIJIAJPQS-VIFPVBQESA-N',\n",
       " 'ROHFNLRQFUQHCH-YFKPBYRVSA-N',\n",
       " 'PQNASZJZHFPQLE-UHFFFAOYSA-N',\n",
       " 'QWYFHHGCZUCMBN-SECBINFHSA-N',\n",
       " 'LOIYMIARKYCTBW-OWOJBTEDSA-N']"
      ]
     },
     "execution_count": 47,
     "metadata": {},
     "output_type": "execute_result"
    }
   ],
   "source": [
    "positive_mode_panda.INCHIKEY.value_counts()[\n",
    "    positive_mode_panda.INCHIKEY.value_counts() > 30\n",
    "].keys().tolist()"
   ]
  },
  {
   "cell_type": "code",
   "execution_count": 46,
   "id": "1586e668",
   "metadata": {},
   "outputs": [
    {
     "data": {
      "text/plain": [
       "['KDYFGRWQOYBRFD-UHFFFAOYSA-N',\n",
       " 'ODKSFYDXXFIFQN-BYPYZUCNSA-N',\n",
       " 'HNDVDQJCIGZPNO-YFKPBYRVSA-N',\n",
       " 'DRTQHJPVMGBUCF-XVFCMESISA-N',\n",
       " 'MTCFGRXMJLQNBG-REOHCLBHSA-N',\n",
       " 'GHOKWGTUZJEAQD-ZETCQYMHSA-N',\n",
       " 'UGQMRVRMYYASKQ-KQYNXXCUSA-N',\n",
       " 'NBIIXXVUZAFLBC-UHFFFAOYSA-N',\n",
       " 'PXQPEWDEAKTCGB-UHFFFAOYSA-N',\n",
       " 'WHUUTDBJXJRKMK-VKHMYHEASA-N',\n",
       " 'KBOJOGQFRVVWBH-ZETCQYMHSA-N',\n",
       " 'RHGKLRLOHDJJDR-BYPYZUCNSA-N',\n",
       " 'COLNVLDHVKWLRT-QMMMGPOBSA-N',\n",
       " 'XOAAWQZATWQOTB-UHFFFAOYSA-N',\n",
       " 'FDGQSTZJBFJUBT-UHFFFAOYSA-N',\n",
       " 'QNAYBMKLOCPYGJ-REOHCLBHSA-N',\n",
       " 'Internal Standard',\n",
       " 'LRFVTYWOQMYALW-UHFFFAOYSA-N',\n",
       " 'ROHFNLRQFUQHCH-YFKPBYRVSA-N',\n",
       " 'GFFGJBXGBJISGV-UHFFFAOYSA-N',\n",
       " 'WXUAQHNMJWJLTG-UHFFFAOYSA-N',\n",
       " 'PTJWIQPHWPFNBW-GBNDHIKLSA-N']"
      ]
     },
     "execution_count": 46,
     "metadata": {},
     "output_type": "execute_result"
    }
   ],
   "source": [
    "negative_mode_panda.INCHIKEY.value_counts()[\n",
    "    negative_mode_panda.INCHIKEY.value_counts() > 30\n",
    "].keys().tolist()"
   ]
  },
  {
   "cell_type": "code",
   "execution_count": null,
   "id": "db96f790",
   "metadata": {},
   "outputs": [],
   "source": [
    "ms_dial_names_to_annotation_names_dict={\n",
    "    '1_Methionine_d8':['Methionine-d8','1_Methionine_d8','1_D8-Methionine iSTD','D8-Methionine iSTD'],\n",
    "    '1_1-Methylnicotinamide_d3':['1_1-Methylnicotinamide_d3','D3-1-Methylnicotinamide iSTD; [M+H]+; HCD (NCE 20-30-40%)','1_1_Methylnicotinamide_d3','1_D3-1-Methylnicotinamide iSTD','D3-1-Methylnicotinamide iSTD','1_D3-1-Methylnicotinamide'],\n",
    "    '1_Creatinine_d5':['1_Creatinine_d3','1_D3-Creatine iSTD','D3-Creatinine iSTD','Creatinine-d3'],\n",
    "    '1_Carnitine_d3':['Carnitine-d3','Carnitine_d3','1_Carnitine_d3','D3-L-Carnitine iSTD','1_D3-Carnitine iSTD'],\n",
    "    '1_Acetylecarnitine_d3':['D3-AC(2:0) iSTD; [M+H]+; HCD (NCE 20-30-40%)','1_Acetylcarnitine_d3','1_D3-AcetylCarnitine','Acetylcarnitine_d3','D3-AC(2:0) iSTD'],\n",
    "    '1_TMAO_d9':['D9-TMAO iSTD; [M+H]+; HCD (NCE 20-30-40%)','D9-TMAO iSTD','1_TMAO_d9','1_D9-TMAO iSTD','TMAOd9'],\n",
    "    '1_Choline_d9':['D9-Choline iSTD; [M+H]+; HCD (NCE 20-30-40%)','1_Choline_d9','D9-Choline iSTD','1_D9-Choline iSTD'],\n",
    "    '1_Glutamine_d5':['D5-Glutamine iSTD; [M+H]+; HCD (NCE 20-30-40%)','1_Glutamine_d5','1_D5-Glutamine iSTD','1_D5-L-Glutamine','1_D5-L-Glutamine iSTD','1_Glutamine_d6'],\n",
    "    '1_Glutamic Acid_d3':['D3-Glutamic acid iSTD','D3-DL-Glutamic acid iSTD','1_Glutamic Acid_d3','1_D3-Glutamic acid iSTD','Glutamic Acid d3','Glutamine_d5'],\n",
    "    '1_Arginine_d7':['1_Arginine_d7','D7-Arginine iSTD','Arginine_d7','Arginine d7'],\n",
    "    '1_Alanine_d3':['1_Alanine_d3','1_D3-Alanine iSTD','D3-DL-Alanine iSTD'],\n",
    "    '1_Valine_d8':['Valine-d8','1_Valine_d8'],\n",
    "    '1_Tryptophan_d5':['Tryptophan-d5','1_Tryptophan-d5','Tryptophan d5','1_Tryptophan_d5'],\n",
    "    '1_Serine_d3':['1_Serine_d3','Serine-d8','1_Serine-d8','1_Serine-d3','Serine d8','Serine_d8','1_Serine_d8'],\n",
    "    '1_Lysine_d8':['Lysine-d8','1_Lysine-d8'],\n",
    "    '1_Phenylalanine_d8':['Phenylalanine-d8','1_Phenylalanine-d8','Phenylalanine d8','1_Phenylalanine_d8'],\n",
    "    '1_HippuricAcid_d5':['HippuricAcid-d5','1_HippuricAcid-d5','1_Hippuric Acid d5','1_HippuricAcid_d5','Hippuric Acid d5','1_d5_Hippuric Acid'],\n",
    "    '1_CUDA':['CUDA','1_CUDA','CUDA iSTD','1_CUDA iSTD']\n",
    "}"
   ]
  },
  {
   "cell_type": "code",
   "execution_count": null,
   "id": "a9721053",
   "metadata": {},
   "outputs": [],
   "source": []
  },
  {
   "cell_type": "code",
   "execution_count": null,
   "id": "d920a035",
   "metadata": {},
   "outputs": [],
   "source": []
  }
 ],
 "metadata": {
  "kernelspec": {
   "display_name": "Python 3 (ipykernel)",
   "language": "python",
   "name": "python3"
  },
  "language_info": {
   "codemirror_mode": {
    "name": "ipython",
    "version": 3
   },
   "file_extension": ".py",
   "mimetype": "text/x-python",
   "name": "python",
   "nbconvert_exporter": "python",
   "pygments_lexer": "ipython3",
   "version": "3.9.12"
  }
 },
 "nbformat": 4,
 "nbformat_minor": 5
}
