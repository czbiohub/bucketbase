{
 "cells": [
  {
   "cell_type": "code",
   "execution_count": 18,
   "id": "9cf7ba18",
   "metadata": {},
   "outputs": [],
   "source": [
    "import pandas as pd"
   ]
  },
  {
   "cell_type": "code",
   "execution_count": 19,
   "id": "0bc44114",
   "metadata": {},
   "outputs": [],
   "source": [
    "import numpy as np\n",
    "import os\n",
    "import seaborn as sns\n",
    "import matplotlib.pyplot as plt"
   ]
  },
  {
   "cell_type": "code",
   "execution_count": 20,
   "id": "ca960937",
   "metadata": {},
   "outputs": [],
   "source": [
    "file_directory_address='/Users/parker.bremer/coding_projects/bucketbase/data/individual_sample_data_subset/unzipped'"
   ]
  },
  {
   "cell_type": "code",
   "execution_count": 21,
   "id": "5916c1e0",
   "metadata": {},
   "outputs": [
    {
     "data": {
      "text/plain": [
       "<generator object _walk at 0x7f7cd4d1f2e0>"
      ]
     },
     "execution_count": 21,
     "metadata": {},
     "output_type": "execute_result"
    }
   ],
   "source": [
    "os.walk(file_directory_address)"
   ]
  },
  {
   "cell_type": "code",
   "execution_count": 22,
   "id": "dfb20df2",
   "metadata": {},
   "outputs": [],
   "source": [
    "all_file_list=[os.path.join(dp, f) for dp, dn, fn in os.walk(os.path.expanduser(file_directory_address)) for f in fn]"
   ]
  },
  {
   "cell_type": "code",
   "execution_count": 23,
   "id": "e3e11759",
   "metadata": {},
   "outputs": [
    {
     "data": {
      "text/plain": [
       "'/Users/parker.bremer/coding_projects/bucketbase/data/individual_sample_data_subset/unzipped/BRYU005_Bacterial_Supernatant/neg/BRYU005_Neg_SA0215_QE2_HILIC_515.txt'"
      ]
     },
     "execution_count": 23,
     "metadata": {},
     "output_type": "execute_result"
    }
   ],
   "source": [
    "all_file_list[0]"
   ]
  },
  {
   "cell_type": "code",
   "execution_count": 24,
   "id": "974990f1",
   "metadata": {},
   "outputs": [],
   "source": [
    "pos_files=[temp for temp in all_file_list if ('pos' in temp.split('/')[-2])]"
   ]
  },
  {
   "cell_type": "code",
   "execution_count": 25,
   "id": "d6238bc2",
   "metadata": {},
   "outputs": [],
   "source": [
    "neg_files=[temp for temp in all_file_list if ('neg' in temp.split('/')[-2])]\n"
   ]
  },
  {
   "cell_type": "code",
   "execution_count": 26,
   "id": "4c74ad26",
   "metadata": {
    "scrolled": true
   },
   "outputs": [
    {
     "data": {
      "text/plain": [
       "['/Users/parker.bremer/coding_projects/bucketbase/data/individual_sample_data_subset/unzipped/BRYU005_Bacterial_Supernatant/pos/BRYU005_Pos_SA0194_QE2_HILIC_478.txt',\n",
       " '/Users/parker.bremer/coding_projects/bucketbase/data/individual_sample_data_subset/unzipped/BRYU005_Bacterial_Supernatant/pos/BRYU005_Pos_SA0036_QE2_HILIC_062.txt',\n",
       " '/Users/parker.bremer/coding_projects/bucketbase/data/individual_sample_data_subset/unzipped/BRYU005_Bacterial_Supernatant/pos/BRYU005_Pos_SA0060_QE2_HILIC_072.txt',\n",
       " '/Users/parker.bremer/coding_projects/bucketbase/data/individual_sample_data_subset/unzipped/BRYU005_Bacterial_Supernatant/pos/BRYU005_Pos_SA0018_QE2_HILIC_170.txt',\n",
       " '/Users/parker.bremer/coding_projects/bucketbase/data/individual_sample_data_subset/unzipped/BRYU005_Bacterial_Supernatant/pos/BRYU005_Pos_SA0032_QE2_HILIC_098.txt',\n",
       " '/Users/parker.bremer/coding_projects/bucketbase/data/individual_sample_data_subset/unzipped/BRYU005_Bacterial_Supernatant/pos/BRYU005_Pos_SA0141_QE2_HILIC_282.txt',\n",
       " '/Users/parker.bremer/coding_projects/bucketbase/data/individual_sample_data_subset/unzipped/BRYU005_Bacterial_Supernatant/pos/BRYU005_Pos_SA0083_QE2_HILIC_210.txt',\n",
       " '/Users/parker.bremer/coding_projects/bucketbase/data/individual_sample_data_subset/unzipped/BRYU005_Bacterial_Supernatant/pos/BRYU005_Pos_SA0108_QE2_HILIC_208.txt',\n",
       " '/Users/parker.bremer/coding_projects/bucketbase/data/individual_sample_data_subset/unzipped/BRYU005_Bacterial_Supernatant/pos/BRYU005_Pos_SA0004_QE2_HILIC_038.txt',\n",
       " '/Users/parker.bremer/coding_projects/bucketbase/data/individual_sample_data_subset/unzipped/BRYU005_Bacterial_Supernatant/pos/BRYU005_Pos_SA0162_QE2_HILIC_398.txt',\n",
       " '/Users/parker.bremer/coding_projects/bucketbase/data/individual_sample_data_subset/unzipped/BRYU005_Bacterial_Supernatant/pos/BRYU005_Pos_SA0074_QE2_HILIC_332.txt',\n",
       " '/Users/parker.bremer/coding_projects/bucketbase/data/individual_sample_data_subset/unzipped/BRYU005_Bacterial_Supernatant/pos/BRYU005_Pos_SA0090_QE2_HILIC_290.txt',\n",
       " '/Users/parker.bremer/coding_projects/bucketbase/data/individual_sample_data_subset/unzipped/BRYU005_Bacterial_Supernatant/pos/BRYU005_Pos_SA0138_QE2_HILIC_230.txt',\n",
       " '/Users/parker.bremer/coding_projects/bucketbase/data/individual_sample_data_subset/unzipped/BRYU005_Bacterial_Supernatant/pos/BRYU005_BK_Pos_QE2_HILIC_150.txt',\n",
       " '/Users/parker.bremer/coding_projects/bucketbase/data/individual_sample_data_subset/unzipped/BRYU005_Bacterial_Supernatant/pos/BRYU005_Pos_SA0110_QE2_HILIC_346.txt',\n",
       " '/Users/parker.bremer/coding_projects/bucketbase/data/individual_sample_data_subset/unzipped/BRYU005_Bacterial_Supernatant/pos/BRYU005_Pos_SA0196_QE2_HILIC_356.txt',\n",
       " '/Users/parker.bremer/coding_projects/bucketbase/data/individual_sample_data_subset/unzipped/BRYU005_Bacterial_Supernatant/pos/BRYU005_Pos_SA0052_QE2_HILIC_162.txt',\n",
       " '/Users/parker.bremer/coding_projects/bucketbase/data/individual_sample_data_subset/unzipped/BRYU005_Bacterial_Supernatant/pos/BRYU005_QC_16_Pos_QE2_HILIC_368.txt',\n",
       " '/Users/parker.bremer/coding_projects/bucketbase/data/individual_sample_data_subset/unzipped/BRYU005_Bacterial_Supernatant/pos/BRYU005_Pos_SA0115_QE2_HILIC_184.txt',\n",
       " '/Users/parker.bremer/coding_projects/bucketbase/data/individual_sample_data_subset/unzipped/BRYU005_Bacterial_Supernatant/pos/BRYU005_Pos_SA0180_QE2_HILIC_510.txt',\n",
       " '/Users/parker.bremer/coding_projects/bucketbase/data/individual_sample_data_subset/unzipped/BRYU005_Bacterial_Supernatant/pos/BRYU005_Pos_SA0072_QE2_HILIC_168.txt',\n",
       " '/Users/parker.bremer/coding_projects/bucketbase/data/individual_sample_data_subset/unzipped/BRYU005_Bacterial_Supernatant/pos/BRYU005_Pos_SA0157_QE2_HILIC_376.txt',\n",
       " '/Users/parker.bremer/coding_projects/bucketbase/data/individual_sample_data_subset/unzipped/BRYU005_Bacterial_Supernatant/pos/BRYU005_Pos_SA0117_QE2_HILIC_252.txt',\n",
       " '/Users/parker.bremer/coding_projects/bucketbase/data/individual_sample_data_subset/unzipped/BRYU005_Bacterial_Supernatant/pos/BRYU005_BK_Pos_QE2_HILIC_030.txt',\n",
       " '/Users/parker.bremer/coding_projects/bucketbase/data/individual_sample_data_subset/unzipped/BRYU005_Bacterial_Supernatant/pos/BRYU005_Pos_SA0073_QE2_HILIC_218.txt',\n",
       " '/Users/parker.bremer/coding_projects/bucketbase/data/individual_sample_data_subset/unzipped/BRYU005_Bacterial_Supernatant/pos/BRYU005_Pos_SA0216_QE2_HILIC_524.txt',\n",
       " '/Users/parker.bremer/coding_projects/bucketbase/data/individual_sample_data_subset/unzipped/BRYU005_Bacterial_Supernatant/pos/BRYU005_Pos_SA0069_QE2_HILIC_096.txt',\n",
       " '/Users/parker.bremer/coding_projects/bucketbase/data/individual_sample_data_subset/unzipped/BRYU005_Bacterial_Supernatant/pos/BRYU005_Pos_SA0165_QE2_HILIC_502.txt',\n",
       " '/Users/parker.bremer/coding_projects/bucketbase/data/individual_sample_data_subset/unzipped/BRYU005_Bacterial_Supernatant/pos/BRYU005_Pos_SA0142_QE2_HILIC_226.txt',\n",
       " '/Users/parker.bremer/coding_projects/bucketbase/data/individual_sample_data_subset/unzipped/BRYU005_Bacterial_Supernatant/pos/BRYU005_Pos_SA0011_QE2_HILIC_156.txt',\n",
       " '/Users/parker.bremer/coding_projects/bucketbase/data/individual_sample_data_subset/unzipped/BRYU005_Bacterial_Supernatant/pos/BRYU005_Pos_SA0026_QE2_HILIC_052.txt',\n",
       " '/Users/parker.bremer/coding_projects/bucketbase/data/individual_sample_data_subset/unzipped/BRYU005_Bacterial_Supernatant/pos/BRYU005_Pos_SA0047_QE2_HILIC_146.txt',\n",
       " '/Users/parker.bremer/coding_projects/bucketbase/data/individual_sample_data_subset/unzipped/BRYU005_Bacterial_Supernatant/pos/BRYU005_Pos_SA0019_QE2_HILIC_014.txt',\n",
       " '/Users/parker.bremer/coding_projects/bucketbase/data/individual_sample_data_subset/unzipped/BRYU005_Bacterial_Supernatant/pos/BRYU005_Pos_SA0183_QE2_HILIC_372.txt',\n",
       " '/Users/parker.bremer/coding_projects/bucketbase/data/individual_sample_data_subset/unzipped/BRYU005_Bacterial_Supernatant/pos/BRYU005_Pos_SA0095_QE2_HILIC_284.txt',\n",
       " '/Users/parker.bremer/coding_projects/bucketbase/data/individual_sample_data_subset/unzipped/BRYU005_Bacterial_Supernatant/pos/BRYU005_Pos_SA0088_QE2_HILIC_268.txt',\n",
       " '/Users/parker.bremer/coding_projects/bucketbase/data/individual_sample_data_subset/unzipped/BRYU005_Bacterial_Supernatant/pos/BRYU005_BK_Pos_QE2_HILIC_390.txt',\n",
       " '/Users/parker.bremer/coding_projects/bucketbase/data/individual_sample_data_subset/unzipped/BRYU005_Bacterial_Supernatant/pos/BRYU005_Pos_SA0071_QE2_HILIC_118.txt',\n",
       " '/Users/parker.bremer/coding_projects/bucketbase/data/individual_sample_data_subset/unzipped/BRYU005_Bacterial_Supernatant/pos/BRYU005_Pos_SA0191_QE2_HILIC_486.txt',\n",
       " '/Users/parker.bremer/coding_projects/bucketbase/data/individual_sample_data_subset/unzipped/BRYU005_Bacterial_Supernatant/pos/BRYU005_Pos_SA0175_QE2_HILIC_518.txt',\n",
       " '/Users/parker.bremer/coding_projects/bucketbase/data/individual_sample_data_subset/unzipped/BRYU005_Bacterial_Supernatant/pos/BRYU005_Pos_SA0081_QE2_HILIC_338.txt',\n",
       " '/Users/parker.bremer/coding_projects/bucketbase/data/individual_sample_data_subset/unzipped/BRYU005_Bacterial_Supernatant/pos/BRYU005_Pos_SA0089_QE2_HILIC_322.txt',\n",
       " '/Users/parker.bremer/coding_projects/bucketbase/data/individual_sample_data_subset/unzipped/BRYU005_Bacterial_Supernatant/pos/BRYU005_Pos_SA0068_QE2_HILIC_042.txt',\n",
       " '/Users/parker.bremer/coding_projects/bucketbase/data/individual_sample_data_subset/unzipped/BRYU005_Bacterial_Supernatant/pos/BRYU005_Pos_SA0102_QE2_HILIC_306.txt',\n",
       " '/Users/parker.bremer/coding_projects/bucketbase/data/individual_sample_data_subset/unzipped/BRYU005_Bacterial_Supernatant/pos/BRYU005_Pos_SA0034_QE2_HILIC_166.txt',\n",
       " '/Users/parker.bremer/coding_projects/bucketbase/data/individual_sample_data_subset/unzipped/BRYU005_Bacterial_Supernatant/pos/BRYU005_Pos_SA0177_QE2_HILIC_378.txt',\n",
       " '/Users/parker.bremer/coding_projects/bucketbase/data/individual_sample_data_subset/unzipped/BRYU005_Bacterial_Supernatant/pos/BRYU005_Pos_SA0130_QE2_HILIC_228.txt',\n",
       " '/Users/parker.bremer/coding_projects/bucketbase/data/individual_sample_data_subset/unzipped/BRYU005_Bacterial_Supernatant/pos/BRYU005_BK_Pos_QE2_HILIC_222.txt',\n",
       " '/Users/parker.bremer/coding_projects/bucketbase/data/individual_sample_data_subset/unzipped/BRYU005_Bacterial_Supernatant/pos/BRYU005_Pos_SA0063_QE2_HILIC_164.txt',\n",
       " '/Users/parker.bremer/coding_projects/bucketbase/data/individual_sample_data_subset/unzipped/BRYU005_Bacterial_Supernatant/pos/BRYU005_BK_Pos_QE2_HILIC_342.txt',\n",
       " '/Users/parker.bremer/coding_projects/bucketbase/data/individual_sample_data_subset/unzipped/BRYU005_Bacterial_Supernatant/pos/BRYU005_Pos_SA0211_QE2_HILIC_420.txt',\n",
       " '/Users/parker.bremer/coding_projects/bucketbase/data/individual_sample_data_subset/unzipped/BRYU005_Bacterial_Supernatant/pos/BRYU005_Pos_SA0167_QE2_HILIC_406.txt',\n",
       " '/Users/parker.bremer/coding_projects/bucketbase/data/individual_sample_data_subset/unzipped/BRYU005_Bacterial_Supernatant/pos/BRYU005_QC_1_Pos_QE2_HILIC_008.txt',\n",
       " '/Users/parker.bremer/coding_projects/bucketbase/data/individual_sample_data_subset/unzipped/BRYU005_Bacterial_Supernatant/pos/BRYU005_Pos_SA0209_QE2_HILIC_432.txt',\n",
       " '/Users/parker.bremer/coding_projects/bucketbase/data/individual_sample_data_subset/unzipped/BRYU005_Bacterial_Supernatant/pos/BRYU005_Pos_SA0044_QE2_HILIC_050.txt',\n",
       " '/Users/parker.bremer/coding_projects/bucketbase/data/individual_sample_data_subset/unzipped/BRYU005_Bacterial_Supernatant/pos/BRYU005_Pos_SA0210_QE2_HILIC_430.txt',\n",
       " '/Users/parker.bremer/coding_projects/bucketbase/data/individual_sample_data_subset/unzipped/BRYU005_Bacterial_Supernatant/pos/BRYU005_Pos_SA0033_QE2_HILIC_070.txt',\n",
       " '/Users/parker.bremer/coding_projects/bucketbase/data/individual_sample_data_subset/unzipped/BRYU005_Bacterial_Supernatant/pos/BRYU005_Pos_SA0015_QE2_HILIC_034.txt',\n",
       " '/Users/parker.bremer/coding_projects/bucketbase/data/individual_sample_data_subset/unzipped/BRYU005_Bacterial_Supernatant/pos/BRYU005_Pos_SA0075_QE2_HILIC_330.txt',\n",
       " '/Users/parker.bremer/coding_projects/bucketbase/data/individual_sample_data_subset/unzipped/BRYU005_Bacterial_Supernatant/pos/BRYU005_Pos_SA0200_QE2_HILIC_402.txt',\n",
       " '/Users/parker.bremer/coding_projects/bucketbase/data/individual_sample_data_subset/unzipped/BRYU005_Bacterial_Supernatant/pos/BRYU005_Pos_SA0150_QE2_HILIC_476.txt',\n",
       " '/Users/parker.bremer/coding_projects/bucketbase/data/individual_sample_data_subset/unzipped/BRYU005_Bacterial_Supernatant/pos/BRYU005_Pos_SA0040_QE2_HILIC_120.txt',\n",
       " '/Users/parker.bremer/coding_projects/bucketbase/data/individual_sample_data_subset/unzipped/BRYU005_Bacterial_Supernatant/pos/BRYU005_Pos_SA0205_QE2_HILIC_428.txt',\n",
       " '/Users/parker.bremer/coding_projects/bucketbase/data/individual_sample_data_subset/unzipped/BRYU005_Bacterial_Supernatant/pos/BRYU005_Pos_SA0182_QE2_HILIC_400.txt',\n",
       " '/Users/parker.bremer/coding_projects/bucketbase/data/individual_sample_data_subset/unzipped/BRYU005_Bacterial_Supernatant/pos/BRYU005_Pos_SA0155_QE2_HILIC_474.txt',\n",
       " '/Users/parker.bremer/coding_projects/bucketbase/data/individual_sample_data_subset/unzipped/BRYU005_Bacterial_Supernatant/pos/BRYU005_Pos_SA0067_QE2_HILIC_016.txt',\n",
       " '/Users/parker.bremer/coding_projects/bucketbase/data/individual_sample_data_subset/unzipped/BRYU005_Bacterial_Supernatant/pos/BRYU005_Pos_SA0037_QE2_HILIC_048.txt',\n",
       " '/Users/parker.bremer/coding_projects/bucketbase/data/individual_sample_data_subset/unzipped/BRYU005_Bacterial_Supernatant/pos/BRYU005_Pos_SA0212_QE2_HILIC_384.txt',\n",
       " '/Users/parker.bremer/coding_projects/bucketbase/data/individual_sample_data_subset/unzipped/BRYU005_Bacterial_Supernatant/pos/BRYU005_Pos_SA0213_QE2_HILIC_382.txt',\n",
       " '/Users/parker.bremer/coding_projects/bucketbase/data/individual_sample_data_subset/unzipped/BRYU005_Bacterial_Supernatant/pos/BRYU005_Pos_SA0005_QE2_HILIC_100.txt',\n",
       " '/Users/parker.bremer/coding_projects/bucketbase/data/individual_sample_data_subset/unzipped/BRYU005_Bacterial_Supernatant/pos/BRYU005_BK_Pos_QE2_HILIC_246.txt',\n",
       " '/Users/parker.bremer/coding_projects/bucketbase/data/individual_sample_data_subset/unzipped/BRYU005_Bacterial_Supernatant/pos/BRYU005_QC_6_Pos_QE2_HILIC_128.txt',\n",
       " '/Users/parker.bremer/coding_projects/bucketbase/data/individual_sample_data_subset/unzipped/BRYU005_Bacterial_Supernatant/pos/BRYU005_Pos_SA0136_QE2_HILIC_202.txt',\n",
       " '/Users/parker.bremer/coding_projects/bucketbase/data/individual_sample_data_subset/unzipped/BRYU005_Bacterial_Supernatant/pos/BRYU005_BK_Pos_QE2_HILIC_078.txt',\n",
       " '/Users/parker.bremer/coding_projects/bucketbase/data/individual_sample_data_subset/unzipped/BRYU005_Bacterial_Supernatant/pos/BRYU005_Pos_SA0187_QE2_HILIC_458.txt',\n",
       " '/Users/parker.bremer/coding_projects/bucketbase/data/individual_sample_data_subset/unzipped/BRYU005_Bacterial_Supernatant/pos/BRYU005_Pos_SA0013_QE2_HILIC_154.txt',\n",
       " '/Users/parker.bremer/coding_projects/bucketbase/data/individual_sample_data_subset/unzipped/BRYU005_Bacterial_Supernatant/pos/BRYU005_Pos_SA0093_QE2_HILIC_308.txt',\n",
       " '/Users/parker.bremer/coding_projects/bucketbase/data/individual_sample_data_subset/unzipped/BRYU005_Bacterial_Supernatant/pos/BRYU005_Pos_SA0030_QE2_HILIC_106.txt',\n",
       " '/Users/parker.bremer/coding_projects/bucketbase/data/individual_sample_data_subset/unzipped/BRYU005_Bacterial_Supernatant/pos/BRYU005_BK_Pos_QE2_HILIC_482.txt',\n",
       " '/Users/parker.bremer/coding_projects/bucketbase/data/individual_sample_data_subset/unzipped/BRYU005_Bacterial_Supernatant/pos/BRYU005_Pos_SA0105_QE2_HILIC_276.txt',\n",
       " '/Users/parker.bremer/coding_projects/bucketbase/data/individual_sample_data_subset/unzipped/BRYU005_Bacterial_Supernatant/pos/BRYU005_Pos_SA0001_QE2_HILIC_138.txt',\n",
       " '/Users/parker.bremer/coding_projects/bucketbase/data/individual_sample_data_subset/unzipped/BRYU005_Bacterial_Supernatant/pos/BRYU005_Pos_SA0041_QE2_HILIC_036.txt',\n",
       " '/Users/parker.bremer/coding_projects/bucketbase/data/individual_sample_data_subset/unzipped/BRYU005_Bacterial_Supernatant/pos/BRYU005_QC_10_Pos_QE2_HILIC_224.txt',\n",
       " '/Users/parker.bremer/coding_projects/bucketbase/data/individual_sample_data_subset/unzipped/BRYU005_Bacterial_Supernatant/pos/BRYU005_Pos_SA0020_QE2_HILIC_122.txt',\n",
       " '/Users/parker.bremer/coding_projects/bucketbase/data/individual_sample_data_subset/unzipped/BRYU005_Bacterial_Supernatant/pos/BRYU005_Pos_SA0014_QE2_HILIC_094.txt',\n",
       " '/Users/parker.bremer/coding_projects/bucketbase/data/individual_sample_data_subset/unzipped/BRYU005_Bacterial_Supernatant/pos/BRYU005_Pos_SA0087_QE2_HILIC_300.txt',\n",
       " '/Users/parker.bremer/coding_projects/bucketbase/data/individual_sample_data_subset/unzipped/BRYU005_Bacterial_Supernatant/pos/BRYU005_Pos_SA0171_QE2_HILIC_386.txt',\n",
       " '/Users/parker.bremer/coding_projects/bucketbase/data/individual_sample_data_subset/unzipped/BRYU005_Bacterial_Supernatant/pos/BRYU005_Pos_SA0125_QE2_HILIC_336.txt',\n",
       " '/Users/parker.bremer/coding_projects/bucketbase/data/individual_sample_data_subset/unzipped/BRYU005_Bacterial_Supernatant/pos/BRYU005_QC_3_Pos_QE2_HILIC_056.txt',\n",
       " '/Users/parker.bremer/coding_projects/bucketbase/data/individual_sample_data_subset/unzipped/BRYU005_Bacterial_Supernatant/pos/BRYU005_Pos_SA0113_QE2_HILIC_234.txt',\n",
       " '/Users/parker.bremer/coding_projects/bucketbase/data/individual_sample_data_subset/unzipped/BRYU005_Bacterial_Supernatant/pos/BRYU005_Pos_SA0100_QE2_HILIC_302.txt',\n",
       " '/Users/parker.bremer/coding_projects/bucketbase/data/individual_sample_data_subset/unzipped/BRYU005_Bacterial_Supernatant/pos/BRYU005_QC_23_Pos_QE2_HILIC_528.txt',\n",
       " '/Users/parker.bremer/coding_projects/bucketbase/data/individual_sample_data_subset/unzipped/BRYU005_Bacterial_Supernatant/pos/BRYU005_BK_Pos_QE2_HILIC_318.txt',\n",
       " '/Users/parker.bremer/coding_projects/bucketbase/data/individual_sample_data_subset/unzipped/BRYU005_Bacterial_Supernatant/pos/BRYU005_Pos_SA0055_QE2_HILIC_148.txt',\n",
       " '/Users/parker.bremer/coding_projects/bucketbase/data/individual_sample_data_subset/unzipped/BRYU005_Bacterial_Supernatant/pos/BRYU005_Pos_SA0024_QE2_HILIC_132.txt',\n",
       " '/Users/parker.bremer/coding_projects/bucketbase/data/individual_sample_data_subset/unzipped/BRYU005_Bacterial_Supernatant/pos/BRYU005_Pos_SA0197_QE2_HILIC_468.txt',\n",
       " '/Users/parker.bremer/coding_projects/bucketbase/data/individual_sample_data_subset/unzipped/BRYU005_Bacterial_Supernatant/pos/BRYU005_BK_Pos_QE2_HILIC_126.txt',\n",
       " '/Users/parker.bremer/coding_projects/bucketbase/data/individual_sample_data_subset/unzipped/BRYU005_Bacterial_Supernatant/pos/BRYU005_Pos_SA0146_QE2_HILIC_456.txt',\n",
       " '/Users/parker.bremer/coding_projects/bucketbase/data/individual_sample_data_subset/unzipped/BRYU005_Bacterial_Supernatant/pos/BRYU005_Pos_SA0201_QE2_HILIC_464.txt',\n",
       " '/Users/parker.bremer/coding_projects/bucketbase/data/individual_sample_data_subset/unzipped/BRYU005_Bacterial_Supernatant/pos/BRYU005_QC_8_Pos_QE2_HILIC_176.txt',\n",
       " '/Users/parker.bremer/coding_projects/bucketbase/data/individual_sample_data_subset/unzipped/BRYU005_Bacterial_Supernatant/pos/BRYU005_QC_11_Pos_QE2_HILIC_248.txt',\n",
       " '/Users/parker.bremer/coding_projects/bucketbase/data/individual_sample_data_subset/unzipped/BRYU005_Bacterial_Supernatant/pos/BRYU005_Pos_SA0002_QE2_HILIC_012.txt',\n",
       " '/Users/parker.bremer/coding_projects/bucketbase/data/individual_sample_data_subset/unzipped/BRYU005_Bacterial_Supernatant/pos/BRYU005_Pos_SA0003_QE2_HILIC_028.txt',\n",
       " '/Users/parker.bremer/coding_projects/bucketbase/data/individual_sample_data_subset/unzipped/BRYU005_Bacterial_Supernatant/pos/BRYU005_QC_14_Pos_QE2_HILIC_320.txt',\n",
       " '/Users/parker.bremer/coding_projects/bucketbase/data/individual_sample_data_subset/unzipped/BRYU005_Bacterial_Supernatant/pos/BRYU005_Pos_SA0025_QE2_HILIC_092.txt',\n",
       " '/Users/parker.bremer/coding_projects/bucketbase/data/individual_sample_data_subset/unzipped/BRYU005_Bacterial_Supernatant/pos/BRYU005_Pos_SA0070_QE2_HILIC_018.txt',\n",
       " '/Users/parker.bremer/coding_projects/bucketbase/data/individual_sample_data_subset/unzipped/BRYU005_Bacterial_Supernatant/pos/BRYU005_Pos_SA0057_QE2_HILIC_112.txt',\n",
       " '/Users/parker.bremer/coding_projects/bucketbase/data/individual_sample_data_subset/unzipped/BRYU005_Bacterial_Supernatant/pos/BRYU005_Pos_SA0132_QE2_HILIC_348.txt',\n",
       " '/Users/parker.bremer/coding_projects/bucketbase/data/individual_sample_data_subset/unzipped/BRYU005_Bacterial_Supernatant/pos/BRYU005_QC_7_Pos_QE2_HILIC_152.txt',\n",
       " '/Users/parker.bremer/coding_projects/bucketbase/data/individual_sample_data_subset/unzipped/BRYU005_Bacterial_Supernatant/pos/BRYU005_Pos_SA0204_QE2_HILIC_512.txt',\n",
       " '/Users/parker.bremer/coding_projects/bucketbase/data/individual_sample_data_subset/unzipped/BRYU005_Bacterial_Supernatant/pos/BRYU005_Pos_SA0043_QE2_HILIC_084.txt',\n",
       " '/Users/parker.bremer/coding_projects/bucketbase/data/individual_sample_data_subset/unzipped/BRYU005_Bacterial_Supernatant/pos/BRYU005_Pos_SA0208_QE2_HILIC_494.txt',\n",
       " '/Users/parker.bremer/coding_projects/bucketbase/data/individual_sample_data_subset/unzipped/BRYU005_Bacterial_Supernatant/pos/BRYU005_Pos_SA0159_QE2_HILIC_380.txt',\n",
       " '/Users/parker.bremer/coding_projects/bucketbase/data/individual_sample_data_subset/unzipped/BRYU005_Bacterial_Supernatant/pos/BRYU005_Pos_SA0086_QE2_HILIC_328.txt',\n",
       " '/Users/parker.bremer/coding_projects/bucketbase/data/individual_sample_data_subset/unzipped/BRYU005_Bacterial_Supernatant/pos/BRYU005_Pos_SA0190_QE2_HILIC_396.txt',\n",
       " '/Users/parker.bremer/coding_projects/bucketbase/data/individual_sample_data_subset/unzipped/BRYU005_Bacterial_Supernatant/pos/BRYU005_Pos_SA0017_QE2_HILIC_140.txt',\n",
       " '/Users/parker.bremer/coding_projects/bucketbase/data/individual_sample_data_subset/unzipped/BRYU005_Bacterial_Supernatant/pos/BRYU005_BK_Pos_QE2_HILIC_294.txt',\n",
       " '/Users/parker.bremer/coding_projects/bucketbase/data/individual_sample_data_subset/unzipped/BRYU005_Bacterial_Supernatant/pos/BRYU005_Pos_SA0010_QE2_HILIC_108.txt',\n",
       " '/Users/parker.bremer/coding_projects/bucketbase/data/individual_sample_data_subset/unzipped/BRYU005_Bacterial_Supernatant/pos/BRYU005_Pos_SA0206_QE2_HILIC_374.txt',\n",
       " '/Users/parker.bremer/coding_projects/bucketbase/data/individual_sample_data_subset/unzipped/BRYU005_Bacterial_Supernatant/pos/BRYU005_BK_Pos_QE2_HILIC_054.txt',\n",
       " '/Users/parker.bremer/coding_projects/bucketbase/data/individual_sample_data_subset/unzipped/BRYU005_Bacterial_Supernatant/pos/BRYU005_Pos_SA0126_QE2_HILIC_340.txt',\n",
       " '/Users/parker.bremer/coding_projects/bucketbase/data/individual_sample_data_subset/unzipped/BRYU005_Bacterial_Supernatant/pos/BRYU005_Pos_SA0149_QE2_HILIC_364.txt',\n",
       " '/Users/parker.bremer/coding_projects/bucketbase/data/individual_sample_data_subset/unzipped/BRYU005_Bacterial_Supernatant/pos/BRYU005_Pos_SA0094_QE2_HILIC_350.txt',\n",
       " '/Users/parker.bremer/coding_projects/bucketbase/data/individual_sample_data_subset/unzipped/BRYU005_Bacterial_Supernatant/pos/BRYU005_Pos_SA0008_QE2_HILIC_086.txt',\n",
       " '/Users/parker.bremer/coding_projects/bucketbase/data/individual_sample_data_subset/unzipped/BRYU005_Bacterial_Supernatant/pos/BRYU005_Pos_SA0127_QE2_HILIC_232.txt',\n",
       " '/Users/parker.bremer/coding_projects/bucketbase/data/individual_sample_data_subset/unzipped/BRYU005_Bacterial_Supernatant/pos/BRYU005_Pos_SA0116_QE2_HILIC_188.txt',\n",
       " '/Users/parker.bremer/coding_projects/bucketbase/data/individual_sample_data_subset/unzipped/BRYU005_Bacterial_Supernatant/pos/BRYU005_Pos_SA0164_QE2_HILIC_424.txt',\n",
       " '/Users/parker.bremer/coding_projects/bucketbase/data/individual_sample_data_subset/unzipped/BRYU005_Bacterial_Supernatant/pos/BRYU005_Pos_SA0046_QE2_HILIC_060.txt',\n",
       " '/Users/parker.bremer/coding_projects/bucketbase/data/individual_sample_data_subset/unzipped/BRYU005_Bacterial_Supernatant/pos/BRYU005_Pos_SA0193_QE2_HILIC_472.txt',\n",
       " '/Users/parker.bremer/coding_projects/bucketbase/data/individual_sample_data_subset/unzipped/BRYU005_Bacterial_Supernatant/pos/BRYU005_Pos_SA0077_QE2_HILIC_274.txt',\n",
       " '/Users/parker.bremer/coding_projects/bucketbase/data/individual_sample_data_subset/unzipped/BRYU005_Bacterial_Supernatant/pos/BRYU005_Pos_SA0203_QE2_HILIC_408.txt',\n",
       " '/Users/parker.bremer/coding_projects/bucketbase/data/individual_sample_data_subset/unzipped/BRYU005_Bacterial_Supernatant/pos/BRYU005_Pos_SA0029_QE2_HILIC_124.txt',\n",
       " '/Users/parker.bremer/coding_projects/bucketbase/data/individual_sample_data_subset/unzipped/BRYU005_Bacterial_Supernatant/pos/BRYU005_Pos_SA0215_QE2_HILIC_514.txt',\n",
       " '/Users/parker.bremer/coding_projects/bucketbase/data/individual_sample_data_subset/unzipped/BRYU005_Bacterial_Supernatant/pos/BRYU005_Pos_SA0168_QE2_HILIC_370.txt',\n",
       " '/Users/parker.bremer/coding_projects/bucketbase/data/individual_sample_data_subset/unzipped/BRYU005_Bacterial_Supernatant/pos/BRYU005_Pos_SA0111_QE2_HILIC_260.txt',\n",
       " '/Users/parker.bremer/coding_projects/bucketbase/data/individual_sample_data_subset/unzipped/BRYU005_Bacterial_Supernatant/pos/BRYU005_Pos_SA0121_QE2_HILIC_304.txt',\n",
       " '/Users/parker.bremer/coding_projects/bucketbase/data/individual_sample_data_subset/unzipped/BRYU005_Bacterial_Supernatant/pos/BRYU005_Pos_SA0054_QE2_HILIC_024.txt',\n",
       " '/Users/parker.bremer/coding_projects/bucketbase/data/individual_sample_data_subset/unzipped/BRYU005_Bacterial_Supernatant/pos/BRYU005_Pos_SA0158_QE2_HILIC_412.txt',\n",
       " '/Users/parker.bremer/coding_projects/bucketbase/data/individual_sample_data_subset/unzipped/BRYU005_Bacterial_Supernatant/pos/BRYU005_QC_18_Pos_QE2_HILIC_416.txt',\n",
       " '/Users/parker.bremer/coding_projects/bucketbase/data/individual_sample_data_subset/unzipped/BRYU005_Bacterial_Supernatant/pos/BRYU005_Pos_SA0031_QE2_HILIC_082.txt',\n",
       " '/Users/parker.bremer/coding_projects/bucketbase/data/individual_sample_data_subset/unzipped/BRYU005_Bacterial_Supernatant/pos/BRYU005_BK_Pos_QE2_HILIC_460.txt',\n",
       " '/Users/parker.bremer/coding_projects/bucketbase/data/individual_sample_data_subset/unzipped/BRYU005_Bacterial_Supernatant/pos/BRYU005_Pos_SA0064_QE2_HILIC_020.txt',\n",
       " '/Users/parker.bremer/coding_projects/bucketbase/data/individual_sample_data_subset/unzipped/BRYU005_Bacterial_Supernatant/pos/BRYU005_QC_13_Pos_QE2_HILIC_296.txt',\n",
       " '/Users/parker.bremer/coding_projects/bucketbase/data/individual_sample_data_subset/unzipped/BRYU005_Bacterial_Supernatant/pos/BRYU005_Pos_SA0176_QE2_HILIC_500.txt',\n",
       " '/Users/parker.bremer/coding_projects/bucketbase/data/individual_sample_data_subset/unzipped/BRYU005_Bacterial_Supernatant/pos/BRYU005_Pos_SA0186_QE2_HILIC_508.txt',\n",
       " '/Users/parker.bremer/coding_projects/bucketbase/data/individual_sample_data_subset/unzipped/BRYU005_Bacterial_Supernatant/pos/BRYU005_Pos_SA0188_QE2_HILIC_362.txt',\n",
       " '/Users/parker.bremer/coding_projects/bucketbase/data/individual_sample_data_subset/unzipped/BRYU005_Bacterial_Supernatant/pos/BRYU005_Pos_SA0012_QE2_HILIC_010.txt',\n",
       " '/Users/parker.bremer/coding_projects/bucketbase/data/individual_sample_data_subset/unzipped/BRYU005_Bacterial_Supernatant/pos/BRYU005_Pos_SA0050_QE2_HILIC_180.txt',\n",
       " '/Users/parker.bremer/coding_projects/bucketbase/data/individual_sample_data_subset/unzipped/BRYU005_Bacterial_Supernatant/pos/BRYU005_Pos_SA0192_QE2_HILIC_488.txt',\n",
       " '/Users/parker.bremer/coding_projects/bucketbase/data/individual_sample_data_subset/unzipped/BRYU005_Bacterial_Supernatant/pos/BRYU005_Pos_SA0080_QE2_HILIC_194.txt',\n",
       " '/Users/parker.bremer/coding_projects/bucketbase/data/individual_sample_data_subset/unzipped/BRYU005_Bacterial_Supernatant/pos/BRYU005_QC_15_Pos_QE2_HILIC_344.txt',\n",
       " '/Users/parker.bremer/coding_projects/bucketbase/data/individual_sample_data_subset/unzipped/BRYU005_Bacterial_Supernatant/pos/BRYU005_BK_Pos_QE2_HILIC_270.txt',\n",
       " '/Users/parker.bremer/coding_projects/bucketbase/data/individual_sample_data_subset/unzipped/BRYU005_Bacterial_Supernatant/pos/BRYU005_Pos_SA0131_QE2_HILIC_240.txt',\n",
       " '/Users/parker.bremer/coding_projects/bucketbase/data/individual_sample_data_subset/unzipped/BRYU005_Bacterial_Supernatant/pos/BRYU005_Pos_SA0169_QE2_HILIC_360.txt',\n",
       " '/Users/parker.bremer/coding_projects/bucketbase/data/individual_sample_data_subset/unzipped/BRYU005_Bacterial_Supernatant/pos/BRYU005_Pos_SA0140_QE2_HILIC_212.txt',\n",
       " '/Users/parker.bremer/coding_projects/bucketbase/data/individual_sample_data_subset/unzipped/BRYU005_Bacterial_Supernatant/pos/BRYU005_Pos_SA0153_QE2_HILIC_480.txt',\n",
       " '/Users/parker.bremer/coding_projects/bucketbase/data/individual_sample_data_subset/unzipped/BRYU005_Bacterial_Supernatant/pos/BRYU005_Pos_SA0143_QE2_HILIC_288.txt',\n",
       " '/Users/parker.bremer/coding_projects/bucketbase/data/individual_sample_data_subset/unzipped/BRYU005_Bacterial_Supernatant/pos/BRYU005_QC_21_Pos_QE2_HILIC_484.txt',\n",
       " '/Users/parker.bremer/coding_projects/bucketbase/data/individual_sample_data_subset/unzipped/BRYU005_Bacterial_Supernatant/pos/BRYU005_QC_19_Pos_QE2_HILIC_440.txt',\n",
       " '/Users/parker.bremer/coding_projects/bucketbase/data/individual_sample_data_subset/unzipped/BRYU005_Bacterial_Supernatant/pos/BRYU005_Pos_SA0028_QE2_HILIC_134.txt',\n",
       " '/Users/parker.bremer/coding_projects/bucketbase/data/individual_sample_data_subset/unzipped/BRYU005_Bacterial_Supernatant/pos/BRYU005_Pos_SA0039_QE2_HILIC_074.txt',\n",
       " '/Users/parker.bremer/coding_projects/bucketbase/data/individual_sample_data_subset/unzipped/BRYU005_Bacterial_Supernatant/pos/BRYU005_Pos_SA0021_QE2_HILIC_058.txt',\n",
       " '/Users/parker.bremer/coding_projects/bucketbase/data/individual_sample_data_subset/unzipped/BRYU005_Bacterial_Supernatant/pos/BRYU005_Pos_SA0097_QE2_HILIC_266.txt',\n",
       " '/Users/parker.bremer/coding_projects/bucketbase/data/individual_sample_data_subset/unzipped/BRYU005_Bacterial_Supernatant/pos/BRYU005_Pos_SA0137_QE2_HILIC_192.txt',\n",
       " '/Users/parker.bremer/coding_projects/bucketbase/data/individual_sample_data_subset/unzipped/BRYU005_Bacterial_Supernatant/pos/BRYU005_Pos_SA0122_QE2_HILIC_216.txt',\n",
       " '/Users/parker.bremer/coding_projects/bucketbase/data/individual_sample_data_subset/unzipped/BRYU005_Bacterial_Supernatant/pos/BRYU005_Pos_SA0084_QE2_HILIC_190.txt',\n",
       " '/Users/parker.bremer/coding_projects/bucketbase/data/individual_sample_data_subset/unzipped/BRYU005_Bacterial_Supernatant/pos/BRYU005_Pos_SA0195_QE2_HILIC_358.txt',\n",
       " '/Users/parker.bremer/coding_projects/bucketbase/data/individual_sample_data_subset/unzipped/BRYU005_Bacterial_Supernatant/pos/BRYU005_Pos_SA0027_QE2_HILIC_172.txt',\n",
       " '/Users/parker.bremer/coding_projects/bucketbase/data/individual_sample_data_subset/unzipped/BRYU005_Bacterial_Supernatant/pos/BRYU005_Pos_SA0134_QE2_HILIC_326.txt',\n",
       " '/Users/parker.bremer/coding_projects/bucketbase/data/individual_sample_data_subset/unzipped/BRYU005_Bacterial_Supernatant/pos/BRYU005_Pos_SA0104_QE2_HILIC_242.txt',\n",
       " '/Users/parker.bremer/coding_projects/bucketbase/data/individual_sample_data_subset/unzipped/BRYU005_Bacterial_Supernatant/pos/BRYU005_Pos_SA0048_QE2_HILIC_142.txt',\n",
       " '/Users/parker.bremer/coding_projects/bucketbase/data/individual_sample_data_subset/unzipped/BRYU005_Bacterial_Supernatant/pos/BRYU005_Pos_SA0049_QE2_HILIC_178.txt',\n",
       " '/Users/parker.bremer/coding_projects/bucketbase/data/individual_sample_data_subset/unzipped/BRYU005_Bacterial_Supernatant/pos/BRYU005_Pos_SA0185_QE2_HILIC_434.txt',\n",
       " '/Users/parker.bremer/coding_projects/bucketbase/data/individual_sample_data_subset/unzipped/BRYU005_Bacterial_Supernatant/pos/BRYU005_Pos_SA0042_QE2_HILIC_116.txt',\n",
       " '/Users/parker.bremer/coding_projects/bucketbase/data/individual_sample_data_subset/unzipped/BRYU005_Bacterial_Supernatant/pos/BRYU005_Pos_SA0129_QE2_HILIC_254.txt',\n",
       " '/Users/parker.bremer/coding_projects/bucketbase/data/individual_sample_data_subset/unzipped/BRYU005_Bacterial_Supernatant/pos/BRYU005_Pos_SA0107_QE2_HILIC_352.txt',\n",
       " '/Users/parker.bremer/coding_projects/bucketbase/data/individual_sample_data_subset/unzipped/BRYU005_Bacterial_Supernatant/pos/BRYU005_Pos_SA0120_QE2_HILIC_264.txt',\n",
       " '/Users/parker.bremer/coding_projects/bucketbase/data/individual_sample_data_subset/unzipped/BRYU005_Bacterial_Supernatant/pos/BRYU005_QC_2_Pos_QE2_HILIC_032.txt',\n",
       " '/Users/parker.bremer/coding_projects/bucketbase/data/individual_sample_data_subset/unzipped/BRYU005_Bacterial_Supernatant/pos/BRYU005_Pos_SA0147_QE2_HILIC_470.txt',\n",
       " '/Users/parker.bremer/coding_projects/bucketbase/data/individual_sample_data_subset/unzipped/BRYU005_Bacterial_Supernatant/pos/BRYU005_Pos_SA0119_QE2_HILIC_244.txt',\n",
       " '/Users/parker.bremer/coding_projects/bucketbase/data/individual_sample_data_subset/unzipped/BRYU005_Bacterial_Supernatant/pos/BRYU005_Pos_SA0053_QE2_HILIC_136.txt',\n",
       " '/Users/parker.bremer/coding_projects/bucketbase/data/individual_sample_data_subset/unzipped/BRYU005_Bacterial_Supernatant/pos/BRYU005_BK_Pos_QE2_HILIC_102.txt',\n",
       " '/Users/parker.bremer/coding_projects/bucketbase/data/individual_sample_data_subset/unzipped/BRYU005_Bacterial_Supernatant/pos/BRYU005_Pos_SA0178_QE2_HILIC_422.txt',\n",
       " '/Users/parker.bremer/coding_projects/bucketbase/data/individual_sample_data_subset/unzipped/BRYU005_Bacterial_Supernatant/pos/BRYU005_Pos_SA0128_QE2_HILIC_324.txt',\n",
       " '/Users/parker.bremer/coding_projects/bucketbase/data/individual_sample_data_subset/unzipped/BRYU005_Bacterial_Supernatant/pos/BRYU005_Pos_SA0035_QE2_HILIC_068.txt',\n",
       " '/Users/parker.bremer/coding_projects/bucketbase/data/individual_sample_data_subset/unzipped/BRYU005_Bacterial_Supernatant/pos/BRYU005_QC_17_Pos_QE2_HILIC_392.txt',\n",
       " '/Users/parker.bremer/coding_projects/bucketbase/data/individual_sample_data_subset/unzipped/BRYU005_Bacterial_Supernatant/pos/BRYU005_BK_Pos_QE2_HILIC_504.txt',\n",
       " '/Users/parker.bremer/coding_projects/bucketbase/data/individual_sample_data_subset/unzipped/BRYU005_Bacterial_Supernatant/pos/BRYU005_Pos_SA0148_QE2_HILIC_418.txt',\n",
       " '/Users/parker.bremer/coding_projects/bucketbase/data/individual_sample_data_subset/unzipped/BRYU005_Bacterial_Supernatant/pos/BRYU005_Pos_SA0114_QE2_HILIC_298.txt',\n",
       " '/Users/parker.bremer/coding_projects/bucketbase/data/individual_sample_data_subset/unzipped/BRYU005_Bacterial_Supernatant/pos/BRYU005_QC_4_Pos_QE2_HILIC_080.txt',\n",
       " '/Users/parker.bremer/coding_projects/bucketbase/data/individual_sample_data_subset/unzipped/BRYU005_Bacterial_Supernatant/pos/BRYU005_Pos_SA0106_QE2_HILIC_196.txt',\n",
       " '/Users/parker.bremer/coding_projects/bucketbase/data/individual_sample_data_subset/unzipped/BRYU005_Bacterial_Supernatant/pos/BRYU005_Pos_SA0096_QE2_HILIC_312.txt',\n",
       " '/Users/parker.bremer/coding_projects/bucketbase/data/individual_sample_data_subset/unzipped/BRYU005_Bacterial_Supernatant/pos/BRYU005_Pos_SA0172_QE2_HILIC_448.txt',\n",
       " '/Users/parker.bremer/coding_projects/bucketbase/data/individual_sample_data_subset/unzipped/BRYU005_Bacterial_Supernatant/pos/BRYU005_Pos_SA0145_QE2_HILIC_410.txt',\n",
       " '/Users/parker.bremer/coding_projects/bucketbase/data/individual_sample_data_subset/unzipped/BRYU005_Bacterial_Supernatant/pos/BRYU005_Pos_SA0076_QE2_HILIC_316.txt',\n",
       " '/Users/parker.bremer/coding_projects/bucketbase/data/individual_sample_data_subset/unzipped/BRYU005_Bacterial_Supernatant/pos/BRYU005_Pos_SA0092_QE2_HILIC_238.txt',\n",
       " '/Users/parker.bremer/coding_projects/bucketbase/data/individual_sample_data_subset/unzipped/BRYU005_Bacterial_Supernatant/pos/BRYU005_Pos_SA0160_QE2_HILIC_442.txt',\n",
       " '/Users/parker.bremer/coding_projects/bucketbase/data/individual_sample_data_subset/unzipped/BRYU005_Bacterial_Supernatant/pos/BRYU005_Pos_SA0099_QE2_HILIC_280.txt',\n",
       " '/Users/parker.bremer/coding_projects/bucketbase/data/individual_sample_data_subset/unzipped/BRYU005_Bacterial_Supernatant/pos/BRYU005_QC_5_Pos_QE2_HILIC_104.txt',\n",
       " '/Users/parker.bremer/coding_projects/bucketbase/data/individual_sample_data_subset/unzipped/BRYU005_Bacterial_Supernatant/pos/BRYU005_Pos_SA0151_QE2_HILIC_454.txt',\n",
       " '/Users/parker.bremer/coding_projects/bucketbase/data/individual_sample_data_subset/unzipped/BRYU005_Bacterial_Supernatant/pos/BRYU005_BK_Pos_QE2_HILIC_006.txt',\n",
       " '/Users/parker.bremer/coding_projects/bucketbase/data/individual_sample_data_subset/unzipped/BRYU005_Bacterial_Supernatant/pos/BRYU005_Pos_SA0152_QE2_HILIC_394.txt',\n",
       " '/Users/parker.bremer/coding_projects/bucketbase/data/individual_sample_data_subset/unzipped/BRYU005_Bacterial_Supernatant/pos/BRYU005_Pos_SA0189_QE2_HILIC_516.txt',\n",
       " '/Users/parker.bremer/coding_projects/bucketbase/data/individual_sample_data_subset/unzipped/BRYU005_Bacterial_Supernatant/pos/BRYU005_Pos_SA0065_QE2_HILIC_130.txt',\n",
       " '/Users/parker.bremer/coding_projects/bucketbase/data/individual_sample_data_subset/unzipped/BRYU005_Bacterial_Supernatant/pos/BRYU005_Pos_SA0207_QE2_HILIC_490.txt',\n",
       " '/Users/parker.bremer/coding_projects/bucketbase/data/individual_sample_data_subset/unzipped/BRYU005_Bacterial_Supernatant/pos/BRYU005_Pos_SA0098_QE2_HILIC_278.txt',\n",
       " '/Users/parker.bremer/coding_projects/bucketbase/data/individual_sample_data_subset/unzipped/BRYU005_Bacterial_Supernatant/pos/BRYU005_Pos_SA0202_QE2_HILIC_450.txt',\n",
       " '/Users/parker.bremer/coding_projects/bucketbase/data/individual_sample_data_subset/unzipped/BRYU005_Bacterial_Supernatant/pos/BRYU005_Pos_SA0006_QE2_HILIC_046.txt',\n",
       " '/Users/parker.bremer/coding_projects/bucketbase/data/individual_sample_data_subset/unzipped/BRYU005_Bacterial_Supernatant/pos/BRYU005_Pos_SA0123_QE2_HILIC_310.txt',\n",
       " '/Users/parker.bremer/coding_projects/bucketbase/data/individual_sample_data_subset/unzipped/BRYU005_Bacterial_Supernatant/pos/BRYU005_Pos_SA0056_QE2_HILIC_144.txt',\n",
       " '/Users/parker.bremer/coding_projects/bucketbase/data/individual_sample_data_subset/unzipped/BRYU005_Bacterial_Supernatant/pos/BRYU005_Pos_SA0061_QE2_HILIC_040.txt',\n",
       " '/Users/parker.bremer/coding_projects/bucketbase/data/individual_sample_data_subset/unzipped/BRYU005_Bacterial_Supernatant/pos/BRYU005_Pos_SA0082_QE2_HILIC_182.txt',\n",
       " '/Users/parker.bremer/coding_projects/bucketbase/data/individual_sample_data_subset/unzipped/BRYU005_Bacterial_Supernatant/pos/BRYU005_Pos_SA0163_QE2_HILIC_426.txt',\n",
       " '/Users/parker.bremer/coding_projects/bucketbase/data/individual_sample_data_subset/unzipped/BRYU005_Bacterial_Supernatant/pos/BRYU005_Pos_SA0179_QE2_HILIC_496.txt',\n",
       " '/Users/parker.bremer/coding_projects/bucketbase/data/individual_sample_data_subset/unzipped/BRYU005_Bacterial_Supernatant/pos/BRYU005_BK_Pos_QE2_HILIC_198.txt',\n",
       " '/Users/parker.bremer/coding_projects/bucketbase/data/individual_sample_data_subset/unzipped/BRYU005_Bacterial_Supernatant/pos/BRYU005_Pos_SA0214_QE2_HILIC_404.txt',\n",
       " '/Users/parker.bremer/coding_projects/bucketbase/data/individual_sample_data_subset/unzipped/BRYU005_Bacterial_Supernatant/pos/BRYU005_Pos_SA0066_QE2_HILIC_022.txt',\n",
       " '/Users/parker.bremer/coding_projects/bucketbase/data/individual_sample_data_subset/unzipped/BRYU005_Bacterial_Supernatant/pos/BRYU005_Pos_SA0038_QE2_HILIC_158.txt',\n",
       " '/Users/parker.bremer/coding_projects/bucketbase/data/individual_sample_data_subset/unzipped/BRYU005_Bacterial_Supernatant/pos/BRYU005_Pos_SA0144_QE2_HILIC_314.txt',\n",
       " '/Users/parker.bremer/coding_projects/bucketbase/data/individual_sample_data_subset/unzipped/BRYU005_Bacterial_Supernatant/pos/BRYU005_Pos_SA0059_QE2_HILIC_064.txt',\n",
       " '/Users/parker.bremer/coding_projects/bucketbase/data/individual_sample_data_subset/unzipped/BRYU005_Bacterial_Supernatant/pos/BRYU005_Pos_SA0022_QE2_HILIC_088.txt',\n",
       " '/Users/parker.bremer/coding_projects/bucketbase/data/individual_sample_data_subset/unzipped/BRYU005_Bacterial_Supernatant/pos/BRYU005_Pos_SA0051_QE2_HILIC_090.txt',\n",
       " '/Users/parker.bremer/coding_projects/bucketbase/data/individual_sample_data_subset/unzipped/BRYU005_Bacterial_Supernatant/pos/BRYU005_Pos_SA0156_QE2_HILIC_436.txt',\n",
       " '/Users/parker.bremer/coding_projects/bucketbase/data/individual_sample_data_subset/unzipped/BRYU005_Bacterial_Supernatant/pos/BRYU005_Pos_SA0170_QE2_HILIC_466.txt',\n",
       " '/Users/parker.bremer/coding_projects/bucketbase/data/individual_sample_data_subset/unzipped/BRYU005_Bacterial_Supernatant/pos/BRYU005_Pos_SA0109_QE2_HILIC_204.txt',\n",
       " '/Users/parker.bremer/coding_projects/bucketbase/data/individual_sample_data_subset/unzipped/BRYU005_Bacterial_Supernatant/pos/BRYU005_Pos_SA0135_QE2_HILIC_186.txt',\n",
       " '/Users/parker.bremer/coding_projects/bucketbase/data/individual_sample_data_subset/unzipped/BRYU005_Bacterial_Supernatant/pos/BRYU005_Pos_SA0062_QE2_HILIC_026.txt',\n",
       " '/Users/parker.bremer/coding_projects/bucketbase/data/individual_sample_data_subset/unzipped/BRYU005_Bacterial_Supernatant/pos/BRYU005_BK_Pos_QE2_HILIC_366.txt',\n",
       " '/Users/parker.bremer/coding_projects/bucketbase/data/individual_sample_data_subset/unzipped/BRYU005_Bacterial_Supernatant/pos/BRYU005_BK_Pos_QE2_HILIC_414.txt',\n",
       " '/Users/parker.bremer/coding_projects/bucketbase/data/individual_sample_data_subset/unzipped/BRYU005_Bacterial_Supernatant/pos/BRYU005_Pos_SA0166_QE2_HILIC_354.txt',\n",
       " '/Users/parker.bremer/coding_projects/bucketbase/data/individual_sample_data_subset/unzipped/BRYU005_Bacterial_Supernatant/pos/BRYU005_Pos_SA0101_QE2_HILIC_236.txt',\n",
       " '/Users/parker.bremer/coding_projects/bucketbase/data/individual_sample_data_subset/unzipped/BRYU005_Bacterial_Supernatant/pos/BRYU005_BK_Pos_QE2_HILIC_174.txt',\n",
       " '/Users/parker.bremer/coding_projects/bucketbase/data/individual_sample_data_subset/unzipped/BRYU005_Bacterial_Supernatant/pos/BRYU005_Pos_SA0199_QE2_HILIC_522.txt',\n",
       " '/Users/parker.bremer/coding_projects/bucketbase/data/individual_sample_data_subset/unzipped/BRYU005_Bacterial_Supernatant/pos/BRYU005_Pos_SA0023_QE2_HILIC_114.txt',\n",
       " '/Users/parker.bremer/coding_projects/bucketbase/data/individual_sample_data_subset/unzipped/BRYU005_Bacterial_Supernatant/pos/BRYU005_BK_Pos_QE2_HILIC_438.txt',\n",
       " '/Users/parker.bremer/coding_projects/bucketbase/data/individual_sample_data_subset/unzipped/BRYU005_Bacterial_Supernatant/pos/BRYU005_Pos_SA0118_QE2_HILIC_220.txt',\n",
       " '/Users/parker.bremer/coding_projects/bucketbase/data/individual_sample_data_subset/unzipped/BRYU005_Bacterial_Supernatant/pos/BRYU005_Pos_SA0174_QE2_HILIC_498.txt',\n",
       " '/Users/parker.bremer/coding_projects/bucketbase/data/individual_sample_data_subset/unzipped/BRYU005_Bacterial_Supernatant/pos/BRYU005_Pos_SA0198_QE2_HILIC_444.txt',\n",
       " '/Users/parker.bremer/coding_projects/bucketbase/data/individual_sample_data_subset/unzipped/BRYU005_Bacterial_Supernatant/pos/BRYU005_Pos_SA0103_QE2_HILIC_334.txt',\n",
       " '/Users/parker.bremer/coding_projects/bucketbase/data/individual_sample_data_subset/unzipped/BRYU005_Bacterial_Supernatant/pos/BRYU005_Pos_SA0085_QE2_HILIC_286.txt',\n",
       " '/Users/parker.bremer/coding_projects/bucketbase/data/individual_sample_data_subset/unzipped/BRYU005_Bacterial_Supernatant/pos/BRYU005_Pos_SA0133_QE2_HILIC_250.txt',\n",
       " '/Users/parker.bremer/coding_projects/bucketbase/data/individual_sample_data_subset/unzipped/BRYU005_Bacterial_Supernatant/pos/BRYU005_Pos_SA0058_QE2_HILIC_066.txt',\n",
       " '/Users/parker.bremer/coding_projects/bucketbase/data/individual_sample_data_subset/unzipped/BRYU005_Bacterial_Supernatant/pos/BRYU005_QC_22_Pos_QE2_HILIC_506.txt',\n",
       " '/Users/parker.bremer/coding_projects/bucketbase/data/individual_sample_data_subset/unzipped/BRYU005_Bacterial_Supernatant/pos/BRYU005_Pos_SA0091_QE2_HILIC_258.txt',\n",
       " '/Users/parker.bremer/coding_projects/bucketbase/data/individual_sample_data_subset/unzipped/BRYU005_Bacterial_Supernatant/pos/BRYU005_Pos_SA0124_QE2_HILIC_214.txt',\n",
       " '/Users/parker.bremer/coding_projects/bucketbase/data/individual_sample_data_subset/unzipped/BRYU005_Bacterial_Supernatant/pos/BRYU005_Pos_SA0079_QE2_HILIC_256.txt',\n",
       " '/Users/parker.bremer/coding_projects/bucketbase/data/individual_sample_data_subset/unzipped/BRYU005_Bacterial_Supernatant/pos/BRYU005_Pos_SA0154_QE2_HILIC_452.txt',\n",
       " '/Users/parker.bremer/coding_projects/bucketbase/data/individual_sample_data_subset/unzipped/BRYU005_Bacterial_Supernatant/pos/BRYU005_QC_9_Pos_QE2_HILIC_200.txt',\n",
       " '/Users/parker.bremer/coding_projects/bucketbase/data/individual_sample_data_subset/unzipped/BRYU005_Bacterial_Supernatant/pos/BRYU005_Pos_SA0009_QE2_HILIC_160.txt',\n",
       " '/Users/parker.bremer/coding_projects/bucketbase/data/individual_sample_data_subset/unzipped/BRYU005_Bacterial_Supernatant/pos/BRYU005_Pos_SA0181_QE2_HILIC_492.txt',\n",
       " '/Users/parker.bremer/coding_projects/bucketbase/data/individual_sample_data_subset/unzipped/BRYU005_Bacterial_Supernatant/pos/BRYU005_Pos_SA0016_QE2_HILIC_110.txt',\n",
       " '/Users/parker.bremer/coding_projects/bucketbase/data/individual_sample_data_subset/unzipped/BRYU005_Bacterial_Supernatant/pos/BRYU005_Pos_SA0007_QE2_HILIC_044.txt',\n",
       " '/Users/parker.bremer/coding_projects/bucketbase/data/individual_sample_data_subset/unzipped/BRYU005_Bacterial_Supernatant/pos/BRYU005_Pos_SA0184_QE2_HILIC_446.txt',\n",
       " '/Users/parker.bremer/coding_projects/bucketbase/data/individual_sample_data_subset/unzipped/BRYU005_Bacterial_Supernatant/pos/BRYU005_Pos_SA0112_QE2_HILIC_262.txt',\n",
       " '/Users/parker.bremer/coding_projects/bucketbase/data/individual_sample_data_subset/unzipped/BRYU005_Bacterial_Supernatant/pos/BRYU005_Pos_SA0173_QE2_HILIC_388.txt',\n",
       " '/Users/parker.bremer/coding_projects/bucketbase/data/individual_sample_data_subset/unzipped/BRYU005_Bacterial_Supernatant/pos/BRYU005_Pos_SA0161_QE2_HILIC_520.txt',\n",
       " '/Users/parker.bremer/coding_projects/bucketbase/data/individual_sample_data_subset/unzipped/BRYU005_Bacterial_Supernatant/pos/BRYU005_QC_12_Pos_QE2_HILIC_272.txt',\n",
       " '/Users/parker.bremer/coding_projects/bucketbase/data/individual_sample_data_subset/unzipped/BRYU005_Bacterial_Supernatant/pos/BRYU005_Pos_SA0078_QE2_HILIC_292.txt',\n",
       " '/Users/parker.bremer/coding_projects/bucketbase/data/individual_sample_data_subset/unzipped/BRYU005_Bacterial_Supernatant/pos/BRYU005_QC_20_Pos_QE2_HILIC_462.txt',\n",
       " '/Users/parker.bremer/coding_projects/bucketbase/data/individual_sample_data_subset/unzipped/BRYU005_Bacterial_Supernatant/pos/BRYU005_Pos_SA0045_QE2_HILIC_076.txt',\n",
       " '/Users/parker.bremer/coding_projects/bucketbase/data/individual_sample_data_subset/unzipped/BRYU005_Bacterial_Supernatant/pos/BRYU005_Pos_SA0139_QE2_HILIC_206.txt']"
      ]
     },
     "execution_count": 26,
     "metadata": {},
     "output_type": "execute_result"
    }
   ],
   "source": [
    "pos_files"
   ]
  },
  {
   "cell_type": "code",
   "execution_count": 27,
   "id": "75a7a2db",
   "metadata": {},
   "outputs": [],
   "source": [
    "positive_inchikey_list=[\n",
    " 'HNDVDQJCIGZPNO-YFKPBYRVSA-N',\n",
    " 'OEYIOHPDSNJKLS-UHFFFAOYSA-N',\n",
    " 'KDXKERNSBIXSRK-YFKPBYRVSA-N',\n",
    " 'FDGQSTZJBFJUBT-UHFFFAOYSA-N',\n",
    " 'NWGZOALPWZDXNG-UHFFFAOYSA-N',\n",
    " 'OPTASPLRGRRNAP-UHFFFAOYSA-N',\n",
    " 'ODKSFYDXXFIFQN-BYPYZUCNSA-N',\n",
    " 'FFEARJCKVFRZRR-BYPYZUCNSA-N',\n",
    " 'RHGKLRLOHDJJDR-BYPYZUCNSA-N',\n",
    " 'DTERQYGMUDWYAZ-ZETCQYMHSA-N',\n",
    " 'QEFRNWWLZKMPFJ-YGVKFDHGSA-N',\n",
    " 'GSEJCLTVZPLZKY-UHFFFAOYSA-N',\n",
    " 'DDRJAANPRJIHGJ-UHFFFAOYSA-N',\n",
    " 'GHOKWGTUZJEAQD-ZETCQYMHSA-N',\n",
    " 'NTYJJOPFIAHURM-UHFFFAOYSA-N',\n",
    " 'WUUGFSXJNOTRMR-IOSLPCCCSA-N',\n",
    " 'AGPKZVBTJJNPAG-WHFBIAKZSA-N',\n",
    " 'UGQMRVRMYYASKQ-KQYNXXCUSA-N',\n",
    " 'COLNVLDHVKWLRT-QMMMGPOBSA-N',\n",
    " 'OUYCCCASQSFEME-QMMMGPOBSA-N',\n",
    " 'MTCFGRXMJLQNBG-REOHCLBHSA-N',\n",
    " 'DFPAKSUCGFBDDF-UHFFFAOYSA-N',\n",
    " 'ZDXPYRJPNDTMRX-VKHMYHEASA-N',\n",
    " 'JZRWCGZRTZMZEH-UHFFFAOYSA-N',\n",
    " 'GFFGJBXGBJISGV-UHFFFAOYSA-N',\n",
    " 'WHUUTDBJXJRKMK-VKHMYHEASA-N',\n",
    " 'KWIUHFFTVRNATP-UHFFFAOYSA-N',\n",
    " 'QIVBCDIJIAJPQS-VIFPVBQESA-N',\n",
    " 'ROHFNLRQFUQHCH-YFKPBYRVSA-N',\n",
    " 'PQNASZJZHFPQLE-UHFFFAOYSA-N',\n",
    " 'QWYFHHGCZUCMBN-SECBINFHSA-N',\n",
    " 'LOIYMIARKYCTBW-OWOJBTEDSA-N'\n",
    "]"
   ]
  },
  {
   "cell_type": "code",
   "execution_count": null,
   "id": "28ee52cd",
   "metadata": {},
   "outputs": [],
   "source": []
  },
  {
   "cell_type": "code",
   "execution_count": 28,
   "id": "8c33faa0",
   "metadata": {},
   "outputs": [],
   "source": [
    "negative_inchikey_list=[\n",
    " 'KDYFGRWQOYBRFD-UHFFFAOYSA-N',\n",
    " 'ODKSFYDXXFIFQN-BYPYZUCNSA-N',\n",
    " 'HNDVDQJCIGZPNO-YFKPBYRVSA-N',\n",
    " 'DRTQHJPVMGBUCF-XVFCMESISA-N',\n",
    " 'MTCFGRXMJLQNBG-REOHCLBHSA-N',\n",
    " 'GHOKWGTUZJEAQD-ZETCQYMHSA-N',\n",
    " 'UGQMRVRMYYASKQ-KQYNXXCUSA-N',\n",
    " 'NBIIXXVUZAFLBC-UHFFFAOYSA-N',\n",
    " 'PXQPEWDEAKTCGB-UHFFFAOYSA-N',\n",
    " 'WHUUTDBJXJRKMK-VKHMYHEASA-N',\n",
    " 'KBOJOGQFRVVWBH-ZETCQYMHSA-N',\n",
    " 'RHGKLRLOHDJJDR-BYPYZUCNSA-N',\n",
    " 'COLNVLDHVKWLRT-QMMMGPOBSA-N',\n",
    " 'XOAAWQZATWQOTB-UHFFFAOYSA-N',\n",
    " 'FDGQSTZJBFJUBT-UHFFFAOYSA-N',\n",
    " 'QNAYBMKLOCPYGJ-REOHCLBHSA-N',\n",
    " 'LRFVTYWOQMYALW-UHFFFAOYSA-N',\n",
    " 'ROHFNLRQFUQHCH-YFKPBYRVSA-N',\n",
    " 'GFFGJBXGBJISGV-UHFFFAOYSA-N',\n",
    " 'WXUAQHNMJWJLTG-UHFFFAOYSA-N',\n",
    " 'PTJWIQPHWPFNBW-GBNDHIKLSA-N'  \n",
    "]"
   ]
  },
  {
   "cell_type": "code",
   "execution_count": 29,
   "id": "5eeef85a",
   "metadata": {},
   "outputs": [],
   "source": [
    "ms_dial_names_to_annotation_names_dict={\n",
    "    '1_Methionine_d8':['Methionine-d8','1_Methionine_d8','1_D8-Methionine iSTD','D8-Methionine iSTD'],\n",
    "    '1_1-Methylnicotinamide_d3':['1_1-Methylnicotinamide_d3','D3-1-Methylnicotinamide iSTD; [M+H]+; HCD (NCE 20-30-40%)','1_1_Methylnicotinamide_d3','1_D3-1-Methylnicotinamide iSTD','D3-1-Methylnicotinamide iSTD','1_D3-1-Methylnicotinamide'],\n",
    "    '1_Creatinine_d5':['1_Creatinine_d3','1_D3-Creatine iSTD','D3-Creatinine iSTD','Creatinine-d3'],\n",
    "    '1_Carnitine_d3':['Carnitine-d3','Carnitine_d3','1_Carnitine_d3','D3-L-Carnitine iSTD','1_D3-Carnitine iSTD'],\n",
    "    '1_Acetylecarnitine_d3':['D3-AC(2:0) iSTD; [M+H]+; HCD (NCE 20-30-40%)','1_Acetylcarnitine_d3','1_D3-AcetylCarnitine','Acetylcarnitine_d3','D3-AC(2:0) iSTD'],\n",
    "    '1_TMAO_d9':['D9-TMAO iSTD; [M+H]+; HCD (NCE 20-30-40%)','D9-TMAO iSTD','1_TMAO_d9','1_D9-TMAO iSTD','TMAOd9'],\n",
    "    '1_Choline_d9':['D9-Choline iSTD; [M+H]+; HCD (NCE 20-30-40%)','1_Choline_d9','D9-Choline iSTD','1_D9-Choline iSTD'],\n",
    "    '1_Glutamine_d5':['D5-Glutamine iSTD; [M+H]+; HCD (NCE 20-30-40%)','1_Glutamine_d5','1_D5-Glutamine iSTD','1_D5-L-Glutamine','1_D5-L-Glutamine iSTD','1_Glutamine_d6'],\n",
    "    '1_Glutamic Acid_d3':['D3-Glutamic acid iSTD','D3-DL-Glutamic acid iSTD','1_Glutamic Acid_d3','1_D3-Glutamic acid iSTD','Glutamic Acid d3','Glutamine_d5'],\n",
    "    '1_Arginine_d7':['1_Arginine_d7','D7-Arginine iSTD','Arginine_d7','Arginine d7'],\n",
    "    '1_Alanine_d3':['1_Alanine_d3','1_D3-Alanine iSTD','D3-DL-Alanine iSTD'],\n",
    "    '1_Valine_d8':['Valine-d8','1_Valine_d8'],\n",
    "    '1_Tryptophan_d5':['Tryptophan-d5','1_Tryptophan-d5','Tryptophan d5','1_Tryptophan_d5'],\n",
    "    '1_Serine_d3':['1_Serine_d3','Serine-d8','1_Serine-d8','1_Serine-d3','Serine d8','Serine_d8','1_Serine_d8'],\n",
    "    '1_Lysine_d8':['Lysine-d8','1_Lysine-d8'],\n",
    "    '1_Phenylalanine_d8':['Phenylalanine-d8','1_Phenylalanine-d8','Phenylalanine d8','1_Phenylalanine_d8'],\n",
    "    '1_HippuricAcid_d5':['HippuricAcid-d5','1_HippuricAcid-d5','1_Hippuric Acid d5','1_HippuricAcid_d5','Hippuric Acid d5','1_d5_Hippuric Acid'],\n",
    "    '1_CUDA':['CUDA','1_CUDA','CUDA iSTD','1_CUDA iSTD']\n",
    "}"
   ]
  },
  {
   "cell_type": "code",
   "execution_count": 30,
   "id": "a1d23fa1",
   "metadata": {},
   "outputs": [],
   "source": [
    "frequency_check_compounds_pos={\n",
    "    temp_key:list() for temp_key in positive_inchikey_list\n",
    "}\n",
    "frequency_check_compounds_pos['file_list']=pos_files"
   ]
  },
  {
   "cell_type": "code",
   "execution_count": null,
   "id": "ca17736f",
   "metadata": {
    "scrolled": true
   },
   "outputs": [],
   "source": []
  },
  {
   "cell_type": "code",
   "execution_count": 31,
   "id": "3d9c21f2",
   "metadata": {},
   "outputs": [],
   "source": [
    "frequency_check_istd_pos={\n",
    "    temp_key:list() for temp_key in ms_dial_names_to_annotation_names_dict.keys()\n",
    "}\n",
    "frequency_check_istd_pos['file_list']=pos_files"
   ]
  },
  {
   "cell_type": "code",
   "execution_count": 32,
   "id": "3a864f75",
   "metadata": {},
   "outputs": [
    {
     "data": {
      "text/plain": [
       "261"
      ]
     },
     "execution_count": 32,
     "metadata": {},
     "output_type": "execute_result"
    }
   ],
   "source": [
    "len(pos_files)"
   ]
  },
  {
   "cell_type": "code",
   "execution_count": 33,
   "id": "54712528",
   "metadata": {},
   "outputs": [
    {
     "name": "stdout",
     "output_type": "stream",
     "text": [
      "0\n",
      "10\n",
      "20\n",
      "30\n",
      "40\n",
      "50\n",
      "60\n",
      "70\n",
      "80\n",
      "90\n",
      "100\n",
      "110\n",
      "120\n",
      "130\n",
      "140\n",
      "150\n",
      "160\n",
      "170\n",
      "180\n",
      "190\n",
      "200\n",
      "210\n",
      "220\n",
      "230\n",
      "240\n",
      "250\n",
      "260\n"
     ]
    }
   ],
   "source": [
    "#the code is borrowed from \"how_wide_are_RT_ranges\" and we just put a len() around the list. so its a little \n",
    "#sloppy but saved me a bunch of time\n",
    "for i,a_file in enumerate(pos_files):\n",
    "\n",
    "    temp_panda=pd.read_csv(a_file,sep='\\t')\n",
    "    #print(temp_panda)\n",
    "    \n",
    "    for temp_compound in positive_inchikey_list:\n",
    "        #print(temp_compound)\n",
    "        #print(file_as_string.count(temp_compound))\n",
    "        \n",
    "        #print(temp_panda.loc[temp_panda.InChIKey==temp_compound][['InChIKey','RT (min)']])\n",
    "        #print(temp_panda.loc[temp_panda.InChIKey==temp_compound]['RT (min)'].to_list())\n",
    "        #frequency_check_compounds_pos[temp_compound].append(\n",
    "        #    file_as_string.count(temp_compound)\n",
    "        #)\n",
    "        try:\n",
    "            frequency_check_compounds_pos[temp_compound].append(\n",
    "                len(temp_panda.loc[temp_panda.InChIKey==temp_compound]['RT (min)'].to_list())\n",
    "            )\n",
    "        except AttributeError:\n",
    "            print(temp_panda.columns)\n",
    "            print(temp_panda)\n",
    "            print(a_file)\n",
    "            hold=input('hold')\n",
    "        #hold=input('hold')\n",
    "        \n",
    "    for temp_istd in ms_dial_names_to_annotation_names_dict.keys():\n",
    "        #temp_istd_occurence_counter=0\n",
    "        #for subname in ms_dial_names_to_annotation_names_dict[temp_istd]:\n",
    "        #    temp_istd_occurence_counter+=file_as_string.count(subname)\n",
    "        #frequency_check_istd_pos[temp_istd].append(\n",
    "        #    temp_istd_occurence_counter\n",
    "        #)\n",
    "        \n",
    "        #print(temp_panda.loc[\n",
    "        #    temp_panda.Title.isin(\n",
    "        #        ms_dial_names_to_annotation_names_dict[temp_istd]\n",
    "        #    )\n",
    "        #][['Title','RT (min)']])\n",
    "        #hold=input('hold')\n",
    "        \n",
    "        frequency_check_istd_pos[temp_istd].append(\n",
    "            len(temp_panda.loc[\n",
    "                temp_panda.Title.isin(\n",
    "                    ms_dial_names_to_annotation_names_dict[temp_istd]\n",
    "                )\n",
    "            ]['RT (min)'].to_list())\n",
    "        )\n",
    "        \n",
    "            \n",
    "    # print(frequency_check_compounds_pos)\n",
    "    #print('-------')\n",
    "    #print(frequency_check_istd_pos)\n",
    "            \n",
    "    #hold=input('hold')\n",
    "    if i%10==0:\n",
    "        print(i)"
   ]
  },
  {
   "cell_type": "code",
   "execution_count": 41,
   "id": "b5f70a2a",
   "metadata": {},
   "outputs": [],
   "source": [
    "from matplotlib.colors import LinearSegmentedColormap\n",
    "\n",
    "cmap_magma=plt.get_cmap('magma')\n",
    "num_colors=3\n",
    "colors = ['white', 'grey'] + [cmap_magma(i / num_colors) for i in range(2, num_colors)]\n",
    "cmap = LinearSegmentedColormap.from_list('', colors, num_colors)"
   ]
  },
  {
   "cell_type": "code",
   "execution_count": 42,
   "id": "eb5e0526",
   "metadata": {},
   "outputs": [],
   "source": [
    "output_panda_istd_pos=pd.DataFrame.from_dict(\n",
    "    frequency_check_istd_pos\n",
    ")"
   ]
  },
  {
   "cell_type": "code",
   "execution_count": 43,
   "id": "03190ec7",
   "metadata": {},
   "outputs": [],
   "source": [
    "output_panda_istd_pos.drop('file_list',inplace=True,axis='columns')"
   ]
  },
  {
   "cell_type": "code",
   "execution_count": 44,
   "id": "b9dbae58",
   "metadata": {},
   "outputs": [
    {
     "data": {
      "text/plain": [
       "<AxesSubplot:>"
      ]
     },
     "execution_count": 44,
     "metadata": {},
     "output_type": "execute_result"
    },
    {
     "data": {
      "image/png": "[encoded data removed]",
      "text/plain": [
       "<Figure size 432x288 with 2 Axes>"
      ]
     },
     "metadata": {
      "needs_background": "light"
     },
     "output_type": "display_data"
    }
   ],
   "source": [
    "sns.heatmap(output_panda_istd_pos,cmap=cmap)"
   ]
  },
  {
   "cell_type": "code",
   "execution_count": 38,
   "id": "79755a47",
   "metadata": {},
   "outputs": [],
   "source": [
    "output_panda_compounds_pos=pd.DataFrame.from_dict(\n",
    "    frequency_check_compounds_pos\n",
    ")"
   ]
  },
  {
   "cell_type": "code",
   "execution_count": 39,
   "id": "7c27c4ed",
   "metadata": {},
   "outputs": [],
   "source": [
    "output_panda_compounds_pos.drop('file_list',inplace=True,axis='columns')"
   ]
  },
  {
   "cell_type": "code",
   "execution_count": 40,
   "id": "b554de12",
   "metadata": {},
   "outputs": [
    {
     "data": {
      "text/plain": [
       "<AxesSubplot:>"
      ]
     },
     "execution_count": 40,
     "metadata": {},
     "output_type": "execute_result"
    },
    {
     "data": {
      "image/png": "[encoded data removed]",
      "text/plain": [
       "<Figure size 432x288 with 2 Axes>"
      ]
     },
     "metadata": {
      "needs_background": "light"
     },
     "output_type": "display_data"
    }
   ],
   "source": [
    "sns.heatmap(output_panda_compounds_pos,cmap=cmap)"
   ]
  },
  {
   "cell_type": "code",
   "execution_count": null,
   "id": "23540361",
   "metadata": {},
   "outputs": [],
   "source": []
  },
  {
   "cell_type": "code",
   "execution_count": null,
   "id": "f206561f",
   "metadata": {},
   "outputs": [],
   "source": []
  },
  {
   "cell_type": "code",
   "execution_count": null,
   "id": "a6a2bc7d",
   "metadata": {},
   "outputs": [],
   "source": []
  },
  {
   "cell_type": "code",
   "execution_count": null,
   "id": "b30c2cee",
   "metadata": {},
   "outputs": [],
   "source": []
  }
 ],
 "metadata": {
  "kernelspec": {
   "display_name": "Python 3 (ipykernel)",
   "language": "python",
   "name": "python3"
  },
  "language_info": {
   "codemirror_mode": {
    "name": "ipython",
    "version": 3
   },
   "file_extension": ".py",
   "mimetype": "text/x-python",
   "name": "python",
   "nbconvert_exporter": "python",
   "pygments_lexer": "ipython3",
   "version": "3.9.12"
  }
 },
 "nbformat": 4,
 "nbformat_minor": 5
}
